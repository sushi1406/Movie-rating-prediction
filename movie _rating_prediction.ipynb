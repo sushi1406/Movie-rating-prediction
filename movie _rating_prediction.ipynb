{
 "cells": [
  {
   "cell_type": "code",
   "execution_count": 125,
   "id": "b0e78563-cb8c-4d27-95c8-c0fb76bc1548",
   "metadata": {},
   "outputs": [],
   "source": [
    "import pandas as pd\n",
    "import numpy as np\n",
    "import matplotlib.pyplot as plt\n",
    "import seaborn as sns\n",
    "import plotly.express as px"
   ]
  },
  {
   "cell_type": "code",
   "execution_count": 127,
   "id": "8d83d0ad-582c-4ce5-9107-360c6bc52ea3",
   "metadata": {},
   "outputs": [],
   "source": [
    "movie_data = pd.read_csv(\"IMDb Movies India.csv\", encoding='ISO-8859-1')"
   ]
  },
  {
   "cell_type": "code",
   "execution_count": 129,
   "id": "5f07e101-2181-4989-96d1-3daa74e5b27e",
   "metadata": {},
   "outputs": [
    {
     "data": {
      "text/html": [
       "<div>\n",
       "<style scoped>\n",
       "    .dataframe tbody tr th:only-of-type {\n",
       "        vertical-align: middle;\n",
       "    }\n",
       "\n",
       "    .dataframe tbody tr th {\n",
       "        vertical-align: top;\n",
       "    }\n",
       "\n",
       "    .dataframe thead th {\n",
       "        text-align: right;\n",
       "    }\n",
       "</style>\n",
       "<table border=\"1\" class=\"dataframe\">\n",
       "  <thead>\n",
       "    <tr style=\"text-align: right;\">\n",
       "      <th></th>\n",
       "      <th>Name</th>\n",
       "      <th>Year</th>\n",
       "      <th>Duration</th>\n",
       "      <th>Genre</th>\n",
       "      <th>Rating</th>\n",
       "      <th>Votes</th>\n",
       "      <th>Director</th>\n",
       "      <th>Actor 1</th>\n",
       "      <th>Actor 2</th>\n",
       "      <th>Actor 3</th>\n",
       "    </tr>\n",
       "  </thead>\n",
       "  <tbody>\n",
       "    <tr>\n",
       "      <th>0</th>\n",
       "      <td></td>\n",
       "      <td>NaN</td>\n",
       "      <td>NaN</td>\n",
       "      <td>Drama</td>\n",
       "      <td>NaN</td>\n",
       "      <td>NaN</td>\n",
       "      <td>J.S. Randhawa</td>\n",
       "      <td>Manmauji</td>\n",
       "      <td>Birbal</td>\n",
       "      <td>Rajendra Bhatia</td>\n",
       "    </tr>\n",
       "    <tr>\n",
       "      <th>1</th>\n",
       "      <td>#Gadhvi (He thought he was Gandhi)</td>\n",
       "      <td>(2019)</td>\n",
       "      <td>109 min</td>\n",
       "      <td>Drama</td>\n",
       "      <td>7.0</td>\n",
       "      <td>8</td>\n",
       "      <td>Gaurav Bakshi</td>\n",
       "      <td>Rasika Dugal</td>\n",
       "      <td>Vivek Ghamande</td>\n",
       "      <td>Arvind Jangid</td>\n",
       "    </tr>\n",
       "    <tr>\n",
       "      <th>2</th>\n",
       "      <td>#Homecoming</td>\n",
       "      <td>(2021)</td>\n",
       "      <td>90 min</td>\n",
       "      <td>Drama, Musical</td>\n",
       "      <td>NaN</td>\n",
       "      <td>NaN</td>\n",
       "      <td>Soumyajit Majumdar</td>\n",
       "      <td>Sayani Gupta</td>\n",
       "      <td>Plabita Borthakur</td>\n",
       "      <td>Roy Angana</td>\n",
       "    </tr>\n",
       "    <tr>\n",
       "      <th>3</th>\n",
       "      <td>#Yaaram</td>\n",
       "      <td>(2019)</td>\n",
       "      <td>110 min</td>\n",
       "      <td>Comedy, Romance</td>\n",
       "      <td>4.4</td>\n",
       "      <td>35</td>\n",
       "      <td>Ovais Khan</td>\n",
       "      <td>Prateik</td>\n",
       "      <td>Ishita Raj</td>\n",
       "      <td>Siddhant Kapoor</td>\n",
       "    </tr>\n",
       "    <tr>\n",
       "      <th>4</th>\n",
       "      <td>...And Once Again</td>\n",
       "      <td>(2010)</td>\n",
       "      <td>105 min</td>\n",
       "      <td>Drama</td>\n",
       "      <td>NaN</td>\n",
       "      <td>NaN</td>\n",
       "      <td>Amol Palekar</td>\n",
       "      <td>Rajat Kapoor</td>\n",
       "      <td>Rituparna Sengupta</td>\n",
       "      <td>Antara Mali</td>\n",
       "    </tr>\n",
       "  </tbody>\n",
       "</table>\n",
       "</div>"
      ],
      "text/plain": [
       "                                 Name    Year Duration            Genre  \\\n",
       "0                                         NaN      NaN            Drama   \n",
       "1  #Gadhvi (He thought he was Gandhi)  (2019)  109 min            Drama   \n",
       "2                         #Homecoming  (2021)   90 min   Drama, Musical   \n",
       "3                             #Yaaram  (2019)  110 min  Comedy, Romance   \n",
       "4                   ...And Once Again  (2010)  105 min            Drama   \n",
       "\n",
       "   Rating Votes            Director       Actor 1             Actor 2  \\\n",
       "0     NaN   NaN       J.S. Randhawa      Manmauji              Birbal   \n",
       "1     7.0     8       Gaurav Bakshi  Rasika Dugal      Vivek Ghamande   \n",
       "2     NaN   NaN  Soumyajit Majumdar  Sayani Gupta   Plabita Borthakur   \n",
       "3     4.4    35          Ovais Khan       Prateik          Ishita Raj   \n",
       "4     NaN   NaN        Amol Palekar  Rajat Kapoor  Rituparna Sengupta   \n",
       "\n",
       "           Actor 3  \n",
       "0  Rajendra Bhatia  \n",
       "1    Arvind Jangid  \n",
       "2       Roy Angana  \n",
       "3  Siddhant Kapoor  \n",
       "4      Antara Mali  "
      ]
     },
     "execution_count": 129,
     "metadata": {},
     "output_type": "execute_result"
    }
   ],
   "source": [
    "movie_data.head()"
   ]
  },
  {
   "cell_type": "code",
   "execution_count": 131,
   "id": "07fb6051-e0b6-46f9-8e14-0666cca24ab9",
   "metadata": {},
   "outputs": [
    {
     "data": {
      "text/plain": [
       "(15509, 10)"
      ]
     },
     "execution_count": 131,
     "metadata": {},
     "output_type": "execute_result"
    }
   ],
   "source": [
    "movie_data.shape"
   ]
  },
  {
   "cell_type": "code",
   "execution_count": 133,
   "id": "9d9c92b5-1c4e-4ca8-a81a-7f31a16a4450",
   "metadata": {},
   "outputs": [
    {
     "data": {
      "text/html": [
       "<div>\n",
       "<style scoped>\n",
       "    .dataframe tbody tr th:only-of-type {\n",
       "        vertical-align: middle;\n",
       "    }\n",
       "\n",
       "    .dataframe tbody tr th {\n",
       "        vertical-align: top;\n",
       "    }\n",
       "\n",
       "    .dataframe thead th {\n",
       "        text-align: right;\n",
       "    }\n",
       "</style>\n",
       "<table border=\"1\" class=\"dataframe\">\n",
       "  <thead>\n",
       "    <tr style=\"text-align: right;\">\n",
       "      <th></th>\n",
       "      <th>Rating</th>\n",
       "    </tr>\n",
       "  </thead>\n",
       "  <tbody>\n",
       "    <tr>\n",
       "      <th>count</th>\n",
       "      <td>7919.000000</td>\n",
       "    </tr>\n",
       "    <tr>\n",
       "      <th>mean</th>\n",
       "      <td>5.841621</td>\n",
       "    </tr>\n",
       "    <tr>\n",
       "      <th>std</th>\n",
       "      <td>1.381777</td>\n",
       "    </tr>\n",
       "    <tr>\n",
       "      <th>min</th>\n",
       "      <td>1.100000</td>\n",
       "    </tr>\n",
       "    <tr>\n",
       "      <th>25%</th>\n",
       "      <td>4.900000</td>\n",
       "    </tr>\n",
       "    <tr>\n",
       "      <th>50%</th>\n",
       "      <td>6.000000</td>\n",
       "    </tr>\n",
       "    <tr>\n",
       "      <th>75%</th>\n",
       "      <td>6.800000</td>\n",
       "    </tr>\n",
       "    <tr>\n",
       "      <th>max</th>\n",
       "      <td>10.000000</td>\n",
       "    </tr>\n",
       "  </tbody>\n",
       "</table>\n",
       "</div>"
      ],
      "text/plain": [
       "            Rating\n",
       "count  7919.000000\n",
       "mean      5.841621\n",
       "std       1.381777\n",
       "min       1.100000\n",
       "25%       4.900000\n",
       "50%       6.000000\n",
       "75%       6.800000\n",
       "max      10.000000"
      ]
     },
     "execution_count": 133,
     "metadata": {},
     "output_type": "execute_result"
    }
   ],
   "source": [
    "movie_data.describe()"
   ]
  },
  {
   "cell_type": "code",
   "execution_count": 135,
   "id": "1dc919d4-c3cc-442d-a609-c0de915548ba",
   "metadata": {},
   "outputs": [
    {
     "name": "stdout",
     "output_type": "stream",
     "text": [
      "<class 'pandas.core.frame.DataFrame'>\n",
      "RangeIndex: 15509 entries, 0 to 15508\n",
      "Data columns (total 10 columns):\n",
      " #   Column    Non-Null Count  Dtype  \n",
      "---  ------    --------------  -----  \n",
      " 0   Name      15509 non-null  object \n",
      " 1   Year      14981 non-null  object \n",
      " 2   Duration  7240 non-null   object \n",
      " 3   Genre     13632 non-null  object \n",
      " 4   Rating    7919 non-null   float64\n",
      " 5   Votes     7920 non-null   object \n",
      " 6   Director  14984 non-null  object \n",
      " 7   Actor 1   13892 non-null  object \n",
      " 8   Actor 2   13125 non-null  object \n",
      " 9   Actor 3   12365 non-null  object \n",
      "dtypes: float64(1), object(9)\n",
      "memory usage: 1.2+ MB\n"
     ]
    }
   ],
   "source": [
    "movie_data.info()"
   ]
  },
  {
   "cell_type": "code",
   "execution_count": 137,
   "id": "23ab62d8-5143-4356-a4fe-77731dd54e27",
   "metadata": {},
   "outputs": [
    {
     "data": {
      "text/plain": [
       "<Axes: >"
      ]
     },
     "execution_count": 137,
     "metadata": {},
     "output_type": "execute_result"
    },
    {
     "data": {
      "image/png": "[encoded data removed]",
      "text/plain": [
       "<Figure size 640x480 with 2 Axes>"
      ]
     },
     "metadata": {},
     "output_type": "display_data"
    }
   ],
   "source": [
    "sns.heatmap(movie_data.isnull())"
   ]
  },
  {
   "cell_type": "code",
   "execution_count": 139,
   "id": "dac13e55-c3a1-4582-8453-349bea702212",
   "metadata": {},
   "outputs": [
    {
     "data": {
      "text/plain": [
       "Name           0\n",
       "Year         528\n",
       "Duration    8269\n",
       "Genre       1877\n",
       "Rating      7590\n",
       "Votes       7589\n",
       "Director     525\n",
       "Actor 1     1617\n",
       "Actor 2     2384\n",
       "Actor 3     3144\n",
       "dtype: int64"
      ]
     },
     "execution_count": 139,
     "metadata": {},
     "output_type": "execute_result"
    }
   ],
   "source": [
    "movie_data.isnull().sum()"
   ]
  },
  {
   "cell_type": "code",
   "execution_count": 141,
   "id": "b629d1a3-d98c-4027-b09e-876e069e308d",
   "metadata": {},
   "outputs": [
    {
     "data": {
      "text/plain": [
       "6"
      ]
     },
     "execution_count": 141,
     "metadata": {},
     "output_type": "execute_result"
    }
   ],
   "source": [
    "movie_data.duplicated().sum()"
   ]
  },
  {
   "cell_type": "code",
   "execution_count": 143,
   "id": "6b147ed3-66b7-4556-876c-738b95f77947",
   "metadata": {},
   "outputs": [],
   "source": [
    "movie_data.dropna(inplace=True)"
   ]
  },
  {
   "cell_type": "code",
   "execution_count": 145,
   "id": "ffefdc0d-758a-42c3-bbac-401696626516",
   "metadata": {},
   "outputs": [
    {
     "data": {
      "text/plain": [
       "Name        0\n",
       "Year        0\n",
       "Duration    0\n",
       "Genre       0\n",
       "Rating      0\n",
       "Votes       0\n",
       "Director    0\n",
       "Actor 1     0\n",
       "Actor 2     0\n",
       "Actor 3     0\n",
       "dtype: int64"
      ]
     },
     "execution_count": 145,
     "metadata": {},
     "output_type": "execute_result"
    }
   ],
   "source": [
    "movie_data.isnull().sum()"
   ]
  },
  {
   "cell_type": "code",
   "execution_count": 147,
   "id": "a93e1266-3337-437c-b175-ea3e4eeccf8b",
   "metadata": {},
   "outputs": [],
   "source": [
    "movie_data.drop_duplicates(inplace=True)"
   ]
  },
  {
   "cell_type": "code",
   "execution_count": 149,
   "id": "79292d43-bdfe-4ef1-9412-033a8e9549e3",
   "metadata": {},
   "outputs": [
    {
     "data": {
      "text/plain": [
       "(5659, 10)"
      ]
     },
     "execution_count": 149,
     "metadata": {},
     "output_type": "execute_result"
    }
   ],
   "source": [
    "movie_data.shape"
   ]
  },
  {
   "cell_type": "code",
   "execution_count": 151,
   "id": "510213ff-2051-43eb-9b58-d91a311e3806",
   "metadata": {},
   "outputs": [
    {
     "data": {
      "text/plain": [
       "Index(['Name', 'Year', 'Duration', 'Genre', 'Rating', 'Votes', 'Director',\n",
       "       'Actor 1', 'Actor 2', 'Actor 3'],\n",
       "      dtype='object')"
      ]
     },
     "execution_count": 151,
     "metadata": {},
     "output_type": "execute_result"
    }
   ],
   "source": [
    "movie_data.columns"
   ]
  },
  {
   "cell_type": "code",
   "execution_count": 153,
   "id": "cfe63dd5-2aa3-4f4a-b116-69293dd37af9",
   "metadata": {},
   "outputs": [
    {
     "data": {
      "text/plain": [
       "1        (2019)\n",
       "3        (2019)\n",
       "5        (1997)\n",
       "6        (2005)\n",
       "8        (2012)\n",
       "          ...  \n",
       "15493    (2015)\n",
       "15494    (2001)\n",
       "15503    (1989)\n",
       "15505    (1999)\n",
       "15508    (1998)\n",
       "Name: Year, Length: 5659, dtype: object"
      ]
     },
     "execution_count": 153,
     "metadata": {},
     "output_type": "execute_result"
    }
   ],
   "source": [
    "movie_data['Year']"
   ]
  },
  {
   "cell_type": "code",
   "execution_count": 155,
   "id": "b470838f-ac98-4a15-8494-e519c7cf9031",
   "metadata": {},
   "outputs": [],
   "source": [
    "movie_data['Year']=movie_data['Year'].str.replace(r'[()]', ' ', regex=True).astype(int)"
   ]
  },
  {
   "cell_type": "code",
   "execution_count": 157,
   "id": "4e17dc6e-e622-4cb9-ae80-e371a3545c04",
   "metadata": {},
   "outputs": [
    {
     "data": {
      "text/plain": [
       "1        2019\n",
       "3        2019\n",
       "5        1997\n",
       "6        2005\n",
       "8        2012\n",
       "         ... \n",
       "15493    2015\n",
       "15494    2001\n",
       "15503    1989\n",
       "15505    1999\n",
       "15508    1998\n",
       "Name: Year, Length: 5659, dtype: int32"
      ]
     },
     "execution_count": 157,
     "metadata": {},
     "output_type": "execute_result"
    }
   ],
   "source": [
    "movie_data[\"Year\"]"
   ]
  },
  {
   "cell_type": "code",
   "execution_count": 159,
   "id": "cf15a362-b9b7-4230-adde-e8c5d7b2068a",
   "metadata": {},
   "outputs": [],
   "source": [
    "movie_data['Duration']=movie_data['Duration'].str.replace('min', ' ').astype(int)"
   ]
  },
  {
   "cell_type": "code",
   "execution_count": 161,
   "id": "94887d59-a21e-4034-8218-7f5d7a129946",
   "metadata": {},
   "outputs": [
    {
     "data": {
      "text/plain": [
       "1        109\n",
       "3        110\n",
       "5        147\n",
       "6        142\n",
       "8         82\n",
       "        ... \n",
       "15493    115\n",
       "15494    153\n",
       "15503    125\n",
       "15505    129\n",
       "15508    130\n",
       "Name: Duration, Length: 5659, dtype: int32"
      ]
     },
     "execution_count": 161,
     "metadata": {},
     "output_type": "execute_result"
    }
   ],
   "source": [
    "movie_data['Duration']"
   ]
  },
  {
   "cell_type": "code",
   "execution_count": 163,
   "id": "b248b796-0de4-449c-828b-f82b1b68e52f",
   "metadata": {},
   "outputs": [
    {
     "data": {
      "text/plain": [
       "1          Drama\n",
       "3         Comedy\n",
       "3        Romance\n",
       "5         Comedy\n",
       "5          Drama\n",
       "          ...   \n",
       "15503      Drama\n",
       "15505     Action\n",
       "15505      Drama\n",
       "15508     Action\n",
       "15508      Drama\n",
       "Name: Genre, Length: 11979, dtype: object"
      ]
     },
     "execution_count": 163,
     "metadata": {},
     "output_type": "execute_result"
    }
   ],
   "source": [
    "movie_data['Genre']=movie_data['Genre'].str.split(', ')\n",
    "movie_data=movie_data.explode('Genre')\n",
    "movie_data[\"Genre\"].fillna(movie_data[\"Genre\"].mode()[0])"
   ]
  },
  {
   "cell_type": "code",
   "execution_count": 165,
   "id": "08b6ea9d-8e6d-413c-852a-1c5c598e243a",
   "metadata": {},
   "outputs": [],
   "source": [
    "movie_data['Votes'] = pd.to_numeric(movie_data['Votes'].str.replace(',', ''))\n"
   ]
  },
  {
   "cell_type": "code",
   "execution_count": 167,
   "id": "0a69d752-e932-4a09-bf84-6a1bb1caa65f",
   "metadata": {},
   "outputs": [
    {
     "data": {
      "text/plain": [
       "1          8\n",
       "3         35\n",
       "3         35\n",
       "5        827\n",
       "5        827\n",
       "        ... \n",
       "15503     44\n",
       "15505    655\n",
       "15505    655\n",
       "15508     20\n",
       "15508     20\n",
       "Name: Votes, Length: 11979, dtype: int64"
      ]
     },
     "execution_count": 167,
     "metadata": {},
     "output_type": "execute_result"
    }
   ],
   "source": [
    "movie_data['Votes']"
   ]
  },
  {
   "cell_type": "code",
   "execution_count": 169,
   "id": "074f170c-7e60-4dcc-a32f-08681a1c1135",
   "metadata": {},
   "outputs": [
    {
     "name": "stdout",
     "output_type": "stream",
     "text": [
      "<class 'pandas.core.frame.DataFrame'>\n",
      "Index: 11979 entries, 1 to 15508\n",
      "Data columns (total 10 columns):\n",
      " #   Column    Non-Null Count  Dtype  \n",
      "---  ------    --------------  -----  \n",
      " 0   Name      11979 non-null  object \n",
      " 1   Year      11979 non-null  int32  \n",
      " 2   Duration  11979 non-null  int32  \n",
      " 3   Genre     11979 non-null  object \n",
      " 4   Rating    11979 non-null  float64\n",
      " 5   Votes     11979 non-null  int64  \n",
      " 6   Director  11979 non-null  object \n",
      " 7   Actor 1   11979 non-null  object \n",
      " 8   Actor 2   11979 non-null  object \n",
      " 9   Actor 3   11979 non-null  object \n",
      "dtypes: float64(1), int32(2), int64(1), object(6)\n",
      "memory usage: 935.9+ KB\n"
     ]
    }
   ],
   "source": [
    "movie_data.info()"
   ]
  },
  {
   "cell_type": "code",
   "execution_count": 171,
   "id": "d37fde03-8dbd-4cdb-a36e-5b02e4024175",
   "metadata": {},
   "outputs": [
    {
     "data": {
      "text/html": [
       "<div>\n",
       "<style scoped>\n",
       "    .dataframe tbody tr th:only-of-type {\n",
       "        vertical-align: middle;\n",
       "    }\n",
       "\n",
       "    .dataframe tbody tr th {\n",
       "        vertical-align: top;\n",
       "    }\n",
       "\n",
       "    .dataframe thead th {\n",
       "        text-align: right;\n",
       "    }\n",
       "</style>\n",
       "<table border=\"1\" class=\"dataframe\">\n",
       "  <thead>\n",
       "    <tr style=\"text-align: right;\">\n",
       "      <th></th>\n",
       "      <th>Year</th>\n",
       "      <th>Duration</th>\n",
       "      <th>Rating</th>\n",
       "      <th>Votes</th>\n",
       "    </tr>\n",
       "  </thead>\n",
       "  <tbody>\n",
       "    <tr>\n",
       "      <th>count</th>\n",
       "      <td>11979.000000</td>\n",
       "      <td>11979.000000</td>\n",
       "      <td>11979.000000</td>\n",
       "      <td>11979.000000</td>\n",
       "    </tr>\n",
       "    <tr>\n",
       "      <th>mean</th>\n",
       "      <td>1996.099174</td>\n",
       "      <td>135.871024</td>\n",
       "      <td>5.879356</td>\n",
       "      <td>3335.405293</td>\n",
       "    </tr>\n",
       "    <tr>\n",
       "      <th>std</th>\n",
       "      <td>19.314008</td>\n",
       "      <td>25.012586</td>\n",
       "      <td>1.374243</td>\n",
       "      <td>15305.935731</td>\n",
       "    </tr>\n",
       "    <tr>\n",
       "      <th>min</th>\n",
       "      <td>1931.000000</td>\n",
       "      <td>21.000000</td>\n",
       "      <td>1.100000</td>\n",
       "      <td>5.000000</td>\n",
       "    </tr>\n",
       "    <tr>\n",
       "      <th>25%</th>\n",
       "      <td>1982.000000</td>\n",
       "      <td>120.000000</td>\n",
       "      <td>5.000000</td>\n",
       "      <td>41.000000</td>\n",
       "    </tr>\n",
       "    <tr>\n",
       "      <th>50%</th>\n",
       "      <td>2001.000000</td>\n",
       "      <td>137.000000</td>\n",
       "      <td>6.100000</td>\n",
       "      <td>213.000000</td>\n",
       "    </tr>\n",
       "    <tr>\n",
       "      <th>75%</th>\n",
       "      <td>2012.000000</td>\n",
       "      <td>152.000000</td>\n",
       "      <td>6.900000</td>\n",
       "      <td>1469.000000</td>\n",
       "    </tr>\n",
       "    <tr>\n",
       "      <th>max</th>\n",
       "      <td>2021.000000</td>\n",
       "      <td>321.000000</td>\n",
       "      <td>10.000000</td>\n",
       "      <td>591417.000000</td>\n",
       "    </tr>\n",
       "  </tbody>\n",
       "</table>\n",
       "</div>"
      ],
      "text/plain": [
       "               Year      Duration        Rating          Votes\n",
       "count  11979.000000  11979.000000  11979.000000   11979.000000\n",
       "mean    1996.099174    135.871024      5.879356    3335.405293\n",
       "std       19.314008     25.012586      1.374243   15305.935731\n",
       "min     1931.000000     21.000000      1.100000       5.000000\n",
       "25%     1982.000000    120.000000      5.000000      41.000000\n",
       "50%     2001.000000    137.000000      6.100000     213.000000\n",
       "75%     2012.000000    152.000000      6.900000    1469.000000\n",
       "max     2021.000000    321.000000     10.000000  591417.000000"
      ]
     },
     "execution_count": 171,
     "metadata": {},
     "output_type": "execute_result"
    }
   ],
   "source": [
    "movie_data.describe()"
   ]
  },
  {
   "cell_type": "code",
   "execution_count": 173,
   "id": "1b8cb9c8-fbc5-4316-a2d5-85d0bbd08d2d",
   "metadata": {},
   "outputs": [
    {
     "data": {
      "image/png": "[encoded data removed]",
      "text/plain": [
       "<Figure size 640x480 with 1 Axes>"
      ]
     },
     "metadata": {},
     "output_type": "display_data"
    }
   ],
   "source": [
    "year = sns.histplot(data=movie_data, x='Year', stat='probability', bins=30)\n",
    "plt.show()"
   ]
  },
  {
   "cell_type": "code",
   "execution_count": 175,
   "id": "5148e375-94bf-4000-ac76-9b52c6e638cf",
   "metadata": {},
   "outputs": [
    {
     "data": {
      "text/html": [
       "<div>\n",
       "<style scoped>\n",
       "    .dataframe tbody tr th:only-of-type {\n",
       "        vertical-align: middle;\n",
       "    }\n",
       "\n",
       "    .dataframe tbody tr th {\n",
       "        vertical-align: top;\n",
       "    }\n",
       "\n",
       "    .dataframe thead th {\n",
       "        text-align: right;\n",
       "    }\n",
       "</style>\n",
       "<table border=\"1\" class=\"dataframe\">\n",
       "  <thead>\n",
       "    <tr style=\"text-align: right;\">\n",
       "      <th></th>\n",
       "      <th>Year</th>\n",
       "      <th>Genre</th>\n",
       "      <th>Rating</th>\n",
       "    </tr>\n",
       "  </thead>\n",
       "  <tbody>\n",
       "    <tr>\n",
       "      <th>0</th>\n",
       "      <td>1931</td>\n",
       "      <td>Drama</td>\n",
       "      <td>5.750000</td>\n",
       "    </tr>\n",
       "    <tr>\n",
       "      <th>1</th>\n",
       "      <td>1931</td>\n",
       "      <td>Fantasy</td>\n",
       "      <td>6.200000</td>\n",
       "    </tr>\n",
       "    <tr>\n",
       "      <th>2</th>\n",
       "      <td>1932</td>\n",
       "      <td>Musical</td>\n",
       "      <td>6.000000</td>\n",
       "    </tr>\n",
       "    <tr>\n",
       "      <th>3</th>\n",
       "      <td>1932</td>\n",
       "      <td>Romance</td>\n",
       "      <td>6.000000</td>\n",
       "    </tr>\n",
       "    <tr>\n",
       "      <th>4</th>\n",
       "      <td>1933</td>\n",
       "      <td>Drama</td>\n",
       "      <td>6.200000</td>\n",
       "    </tr>\n",
       "    <tr>\n",
       "      <th>...</th>\n",
       "      <td>...</td>\n",
       "      <td>...</td>\n",
       "      <td>...</td>\n",
       "    </tr>\n",
       "    <tr>\n",
       "      <th>1077</th>\n",
       "      <td>2021</td>\n",
       "      <td>Mystery</td>\n",
       "      <td>5.500000</td>\n",
       "    </tr>\n",
       "    <tr>\n",
       "      <th>1078</th>\n",
       "      <td>2021</td>\n",
       "      <td>Romance</td>\n",
       "      <td>6.336364</td>\n",
       "    </tr>\n",
       "    <tr>\n",
       "      <th>1079</th>\n",
       "      <td>2021</td>\n",
       "      <td>Sci-Fi</td>\n",
       "      <td>9.300000</td>\n",
       "    </tr>\n",
       "    <tr>\n",
       "      <th>1080</th>\n",
       "      <td>2021</td>\n",
       "      <td>Sport</td>\n",
       "      <td>5.400000</td>\n",
       "    </tr>\n",
       "    <tr>\n",
       "      <th>1081</th>\n",
       "      <td>2021</td>\n",
       "      <td>Thriller</td>\n",
       "      <td>5.354545</td>\n",
       "    </tr>\n",
       "  </tbody>\n",
       "</table>\n",
       "<p>1082 rows × 3 columns</p>\n",
       "</div>"
      ],
      "text/plain": [
       "      Year     Genre    Rating\n",
       "0     1931     Drama  5.750000\n",
       "1     1931   Fantasy  6.200000\n",
       "2     1932   Musical  6.000000\n",
       "3     1932   Romance  6.000000\n",
       "4     1933     Drama  6.200000\n",
       "...    ...       ...       ...\n",
       "1077  2021   Mystery  5.500000\n",
       "1078  2021   Romance  6.336364\n",
       "1079  2021    Sci-Fi  9.300000\n",
       "1080  2021     Sport  5.400000\n",
       "1081  2021  Thriller  5.354545\n",
       "\n",
       "[1082 rows x 3 columns]"
      ]
     },
     "execution_count": 175,
     "metadata": {},
     "output_type": "execute_result"
    }
   ],
   "source": [
    "avg_rating_by_year= movie_data.groupby(['Year','Genre'])['Rating'].mean().reset_index()\n",
    "avg_rating_by_year"
   ]
  },
  {
   "cell_type": "code",
   "execution_count": 177,
   "id": "c40f33b7-1108-4f45-9784-cd14c66b0e4a",
   "metadata": {},
   "outputs": [
    {
     "data": {
      "text/plain": [
       "Index(['Drama', 'Action', 'Romance', 'Comedy', 'Crime', 'Thriller', 'Family',\n",
       "       'Musical', 'Mystery', 'Adventure'],\n",
       "      dtype='object', name='Genre')"
      ]
     },
     "execution_count": 177,
     "metadata": {},
     "output_type": "execute_result"
    }
   ],
   "source": [
    "#top 10 genres\n",
    "top_genres=movie_data['Genre'].value_counts().head(10).index\n",
    "top_genres"
   ]
  },
  {
   "cell_type": "code",
   "execution_count": 179,
   "id": "5f8bbe62-54b8-4aa6-847c-e1881cef735d",
   "metadata": {},
   "outputs": [
    {
     "data": {
      "text/html": [
       "<div>\n",
       "<style scoped>\n",
       "    .dataframe tbody tr th:only-of-type {\n",
       "        vertical-align: middle;\n",
       "    }\n",
       "\n",
       "    .dataframe tbody tr th {\n",
       "        vertical-align: top;\n",
       "    }\n",
       "\n",
       "    .dataframe thead th {\n",
       "        text-align: right;\n",
       "    }\n",
       "</style>\n",
       "<table border=\"1\" class=\"dataframe\">\n",
       "  <thead>\n",
       "    <tr style=\"text-align: right;\">\n",
       "      <th></th>\n",
       "      <th>Year</th>\n",
       "      <th>Genre</th>\n",
       "      <th>Rating</th>\n",
       "    </tr>\n",
       "  </thead>\n",
       "  <tbody>\n",
       "    <tr>\n",
       "      <th>0</th>\n",
       "      <td>1931</td>\n",
       "      <td>Drama</td>\n",
       "      <td>5.750000</td>\n",
       "    </tr>\n",
       "    <tr>\n",
       "      <th>2</th>\n",
       "      <td>1932</td>\n",
       "      <td>Musical</td>\n",
       "      <td>6.000000</td>\n",
       "    </tr>\n",
       "    <tr>\n",
       "      <th>3</th>\n",
       "      <td>1932</td>\n",
       "      <td>Romance</td>\n",
       "      <td>6.000000</td>\n",
       "    </tr>\n",
       "    <tr>\n",
       "      <th>4</th>\n",
       "      <td>1933</td>\n",
       "      <td>Drama</td>\n",
       "      <td>6.200000</td>\n",
       "    </tr>\n",
       "    <tr>\n",
       "      <th>5</th>\n",
       "      <td>1933</td>\n",
       "      <td>Romance</td>\n",
       "      <td>6.200000</td>\n",
       "    </tr>\n",
       "    <tr>\n",
       "      <th>...</th>\n",
       "      <td>...</td>\n",
       "      <td>...</td>\n",
       "      <td>...</td>\n",
       "    </tr>\n",
       "    <tr>\n",
       "      <th>1071</th>\n",
       "      <td>2021</td>\n",
       "      <td>Family</td>\n",
       "      <td>7.375000</td>\n",
       "    </tr>\n",
       "    <tr>\n",
       "      <th>1076</th>\n",
       "      <td>2021</td>\n",
       "      <td>Musical</td>\n",
       "      <td>4.100000</td>\n",
       "    </tr>\n",
       "    <tr>\n",
       "      <th>1077</th>\n",
       "      <td>2021</td>\n",
       "      <td>Mystery</td>\n",
       "      <td>5.500000</td>\n",
       "    </tr>\n",
       "    <tr>\n",
       "      <th>1078</th>\n",
       "      <td>2021</td>\n",
       "      <td>Romance</td>\n",
       "      <td>6.336364</td>\n",
       "    </tr>\n",
       "    <tr>\n",
       "      <th>1081</th>\n",
       "      <td>2021</td>\n",
       "      <td>Thriller</td>\n",
       "      <td>5.354545</td>\n",
       "    </tr>\n",
       "  </tbody>\n",
       "</table>\n",
       "<p>752 rows × 3 columns</p>\n",
       "</div>"
      ],
      "text/plain": [
       "      Year     Genre    Rating\n",
       "0     1931     Drama  5.750000\n",
       "2     1932   Musical  6.000000\n",
       "3     1932   Romance  6.000000\n",
       "4     1933     Drama  6.200000\n",
       "5     1933   Romance  6.200000\n",
       "...    ...       ...       ...\n",
       "1071  2021    Family  7.375000\n",
       "1076  2021   Musical  4.100000\n",
       "1077  2021   Mystery  5.500000\n",
       "1078  2021   Romance  6.336364\n",
       "1081  2021  Thriller  5.354545\n",
       "\n",
       "[752 rows x 3 columns]"
      ]
     },
     "execution_count": 179,
     "metadata": {},
     "output_type": "execute_result"
    }
   ],
   "source": [
    "average_rating_by_year= avg_rating_by_year[avg_rating_by_year['Genre'].isin(top_genres)]\n",
    "average_rating_by_year"
   ]
  },
  {
   "cell_type": "code",
   "execution_count": 181,
   "id": "08054691-2659-4891-961f-31a755244b21",
   "metadata": {},
   "outputs": [],
   "source": [
    "fig=px.line(average_rating_by_year, x='Year', y='Rating',  color=\"Genre\")"
   ]
  },
  {
   "cell_type": "code",
   "execution_count": 183,
   "id": "197431ad-9d64-4e53-aa9d-e548bd2d62cd",
   "metadata": {},
   "outputs": [
    {
     "data": {
      "application/vnd.plotly.v1+json": {
       "config": {
        "plotlyServerURL": "https://plot.ly"
       },
       "data": [
        {
         "hovertemplate": "Genre=Drama<br>Year=%{x}<br>Rating=%{y}<extra></extra>",
         "legendgroup": "Drama",
         "line": {
          "color": "#636efa",
          "dash": "solid"
         },
         "marker": {
          "symbol": "circle"
         },
         "mode": "lines",
         "name": "Drama",
         "orientation": "v",
         "showlegend": true,
         "type": "scatter",
         "x": [
          1931,
          1933,
          1934,
          1935,
          1936,
          1937,
          1938,
          1939,
          1940,
          1941,
          1942,
          1943,
          1944,
          1945,
          1946,
          1947,
          1948,
          1949,
          1950,
          1951,
          1952,
          1953,
          1954,
          1955,
          1956,
          1957,
          1958,
          1959,
          1960,
          1961,
          1962,
          1963,
          1964,
          1965,
          1966,
          1967,
          1968,
          1969,
          1970,
          1971,
          1972,
          1973,
          1974,
          1975,
          1976,
          1977,
          1978,
          1979,
          1980,
          1981,
          1982,
          1983,
          1984,
          1985,
          1986,
          1987,
          1988,
          1989,
          1990,
          1991,
          1992,
          1993,
          1994,
          1995,
          1996,
          1997,
          1998,
          1999,
          2000,
          2001,
          2002,
          2003,
          2004,
          2005,
          2006,
          2007,
          2008,
          2009,
          2010,
          2011,
          2012,
          2013,
          2014,
          2015,
          2016,
          2017,
          2018,
          2019,
          2020,
          2021
         ],
         "xaxis": "x",
         "y": [
          5.75,
          6.2,
          8.5,
          6.633333333333333,
          6.3500000000000005,
          6.525,
          6.05,
          6.4,
          6.859999999999999,
          6.475,
          6.783333333333334,
          7.257142857142857,
          7.033333333333334,
          6.466666666666666,
          6.933333333333334,
          6.85,
          6.8875,
          6.99,
          6.806666666666667,
          6.618181818181818,
          7.408333333333334,
          7.161538461538461,
          6.493333333333334,
          6.823529411764706,
          6.592307692307693,
          7.131818181818182,
          6.42,
          6.746666666666667,
          6.921052631578948,
          6.8,
          6.515789473684211,
          6.504545454545454,
          6.72,
          6.75,
          6.653571428571429,
          6.64375,
          6.513333333333334,
          6.4,
          6.861764705882353,
          6.685714285714286,
          6.373809523809523,
          6.511428571428572,
          6.732558139534884,
          6.625,
          6.3625,
          6.462790697674418,
          6.561111111111111,
          6.371794871794871,
          6.43,
          6.5,
          6.51,
          6.519148936170212,
          6.191304347826088,
          6.290909090909091,
          6.005357142857143,
          5.854054054054054,
          6.032,
          5.874193548387097,
          5.524528301886793,
          5.5653061224489795,
          5.657692307692307,
          5.46271186440678,
          5.346296296296296,
          5.343181818181818,
          5.5260869565217385,
          5.679245283018868,
          5.789795918367346,
          5.540816326530612,
          5.484615384615385,
          5.58,
          5.415254237288136,
          5.354166666666667,
          5.311764705882353,
          5.729126213592234,
          5.495945945945945,
          5.7552941176470584,
          5.478571428571429,
          5.583529411764706,
          5.527722772277227,
          5.642708333333334,
          6.150769230769231,
          5.965137614678899,
          5.940217391304348,
          5.922641509433962,
          6.214423076923077,
          6.142276422764228,
          6.440625,
          6.447260273972603,
          6.392941176470588,
          6.797435897435898
         ],
         "yaxis": "y"
        },
        {
         "hovertemplate": "Genre=Musical<br>Year=%{x}<br>Rating=%{y}<extra></extra>",
         "legendgroup": "Musical",
         "line": {
          "color": "#EF553B",
          "dash": "solid"
         },
         "marker": {
          "symbol": "circle"
         },
         "mode": "lines",
         "name": "Musical",
         "orientation": "v",
         "showlegend": true,
         "type": "scatter",
         "x": [
          1932,
          1936,
          1942,
          1943,
          1944,
          1946,
          1947,
          1948,
          1949,
          1950,
          1951,
          1952,
          1953,
          1954,
          1955,
          1956,
          1957,
          1958,
          1959,
          1960,
          1961,
          1962,
          1963,
          1964,
          1965,
          1966,
          1967,
          1968,
          1969,
          1970,
          1971,
          1972,
          1973,
          1974,
          1975,
          1977,
          1978,
          1979,
          1980,
          1981,
          1982,
          1983,
          1984,
          1985,
          1986,
          1987,
          1988,
          1989,
          1990,
          1991,
          1992,
          1993,
          1994,
          1995,
          1996,
          1997,
          1998,
          1999,
          2000,
          2001,
          2002,
          2003,
          2004,
          2005,
          2006,
          2007,
          2008,
          2009,
          2010,
          2011,
          2012,
          2013,
          2014,
          2015,
          2016,
          2017,
          2018,
          2019,
          2020,
          2021
         ],
         "xaxis": "x",
         "y": [
          6,
          6.5,
          6.8,
          7.5,
          7.2,
          7.3,
          7.7,
          6.833333333333333,
          7.133333333333333,
          7.2,
          7.45,
          7.4,
          7.233333333333333,
          6.6499999999999995,
          7.1000000000000005,
          7.26,
          7.6,
          7.0625,
          6.942857142857143,
          7.125,
          7.116666666666667,
          7.1,
          6.459999999999999,
          7.31,
          6.844444444444445,
          6.8,
          6.725,
          6.8999999999999995,
          6.88,
          6.628571428571428,
          6.959999999999999,
          7.24,
          7.116666666666667,
          6.671428571428572,
          6.949999999999999,
          6.925,
          6.800000000000001,
          7.140000000000001,
          6.56,
          6.883333333333333,
          6.933333333333334,
          5.966666666666666,
          6.8,
          6.9399999999999995,
          7.3,
          6.475,
          7.8,
          6.4,
          6.95,
          6.257142857142858,
          5.566666666666666,
          5.633333333333333,
          6.675,
          5.375,
          6,
          5.7272727272727275,
          5.466666666666666,
          5.971428571428571,
          5.390909090909091,
          5.672727272727273,
          5.3133333333333335,
          4.7444444444444445,
          4.892307692307693,
          5.266666666666667,
          5.285714285714286,
          4.516666666666667,
          2.966666666666667,
          5.271428571428571,
          5.8,
          5.75,
          5.483333333333333,
          5.866666666666667,
          5.3500000000000005,
          3.966666666666667,
          6,
          4.55,
          2.8,
          5.4,
          5.966666666666666,
          4.1000000000000005
         ],
         "yaxis": "y"
        },
        {
         "hovertemplate": "Genre=Romance<br>Year=%{x}<br>Rating=%{y}<extra></extra>",
         "legendgroup": "Romance",
         "line": {
          "color": "#00cc96",
          "dash": "solid"
         },
         "marker": {
          "symbol": "circle"
         },
         "mode": "lines",
         "name": "Romance",
         "orientation": "v",
         "showlegend": true,
         "type": "scatter",
         "x": [
          1932,
          1933,
          1936,
          1937,
          1938,
          1939,
          1943,
          1944,
          1946,
          1947,
          1948,
          1949,
          1950,
          1951,
          1952,
          1953,
          1954,
          1955,
          1956,
          1957,
          1958,
          1959,
          1960,
          1961,
          1962,
          1963,
          1964,
          1965,
          1966,
          1967,
          1968,
          1969,
          1970,
          1971,
          1972,
          1973,
          1974,
          1975,
          1976,
          1977,
          1978,
          1979,
          1980,
          1981,
          1982,
          1983,
          1984,
          1985,
          1986,
          1987,
          1988,
          1989,
          1990,
          1991,
          1992,
          1993,
          1994,
          1995,
          1996,
          1997,
          1998,
          1999,
          2000,
          2001,
          2002,
          2003,
          2004,
          2005,
          2006,
          2007,
          2008,
          2009,
          2010,
          2011,
          2012,
          2013,
          2014,
          2015,
          2016,
          2017,
          2018,
          2019,
          2020,
          2021
         ],
         "xaxis": "x",
         "y": [
          6,
          6.2,
          6.35,
          5.9,
          5.2,
          6.4,
          7.5,
          7.166666666666667,
          7.1,
          6.433333333333334,
          7.140000000000001,
          7,
          7,
          6.959999999999999,
          7.3500000000000005,
          7.2,
          6.475,
          7.3,
          6.314285714285715,
          7.141666666666667,
          6.8,
          6.7555555555555555,
          6.875,
          6.5375,
          6.833333333333333,
          6.607692307692308,
          6.708333333333333,
          6.95625,
          6.590000000000001,
          6.728571428571429,
          6.58125,
          6.463157894736842,
          6.8625,
          6.7266666666666675,
          6.363636363636363,
          6.7,
          6.689473684210526,
          6.96,
          6.382352941176471,
          6.7299999999999995,
          6.718181818181819,
          6.792857142857143,
          6.566666666666666,
          6.609999999999999,
          6.5600000000000005,
          6.473333333333333,
          6.0636363636363635,
          6.214285714285714,
          6.33,
          6.266666666666667,
          5.483333333333333,
          6.375,
          5.872727272727272,
          5.604347826086957,
          5.55,
          5.044827586206897,
          5.133333333333334,
          4.761111111111111,
          5.671428571428571,
          5.08125,
          5.604761904761905,
          5.171428571428572,
          5.104347826086957,
          5.492592592592593,
          4.990625,
          5.487096774193549,
          4.685185185185185,
          4.705882352941177,
          5.075675675675676,
          5.163333333333333,
          5.174074074074074,
          5.247058823529412,
          5.203703703703703,
          5.504761904761905,
          5.1499999999999995,
          5.561764705882353,
          5.340476190476191,
          5.453488372093023,
          4.703448275862069,
          5.490322580645161,
          5.7696969696969695,
          6.178787878787879,
          5.791666666666667,
          6.336363636363637
         ],
         "yaxis": "y"
        },
        {
         "hovertemplate": "Genre=Adventure<br>Year=%{x}<br>Rating=%{y}<extra></extra>",
         "legendgroup": "Adventure",
         "line": {
          "color": "#ab63fa",
          "dash": "solid"
         },
         "marker": {
          "symbol": "circle"
         },
         "mode": "lines",
         "name": "Adventure",
         "orientation": "v",
         "showlegend": true,
         "type": "scatter",
         "x": [
          1934,
          1935,
          1936,
          1937,
          1938,
          1939,
          1940,
          1942,
          1952,
          1953,
          1954,
          1955,
          1956,
          1957,
          1958,
          1959,
          1960,
          1961,
          1962,
          1963,
          1964,
          1965,
          1966,
          1967,
          1968,
          1969,
          1971,
          1972,
          1975,
          1976,
          1977,
          1978,
          1979,
          1980,
          1981,
          1982,
          1983,
          1984,
          1985,
          1986,
          1987,
          1988,
          1989,
          1991,
          1992,
          1993,
          1994,
          1996,
          1997,
          1998,
          2000,
          2001,
          2002,
          2003,
          2004,
          2005,
          2006,
          2007,
          2008,
          2009,
          2010,
          2011,
          2012,
          2013,
          2014,
          2015,
          2016,
          2017,
          2018,
          2019,
          2020,
          2021
         ],
         "xaxis": "x",
         "y": [
          2.7,
          4.3,
          3.1,
          3.4,
          6.4,
          6.6,
          6.1,
          6.6,
          6.6000000000000005,
          7.3,
          6.266666666666667,
          6,
          6.025,
          6.866666666666667,
          5.475,
          6.2,
          6.449999999999999,
          7.4,
          6.9,
          6.12,
          5.783333333333334,
          6.56,
          5.82,
          5.8,
          5.800000000000001,
          6.5,
          6.8999999999999995,
          6.65,
          6.5,
          6.7,
          6.28,
          6.075,
          6.685714285714285,
          6.65,
          6.459999999999999,
          5.8,
          7.8,
          6.95,
          5.4,
          6.659999999999999,
          5.1,
          6.133333333333333,
          2.9,
          6.066666666666666,
          5.55,
          7.050000000000001,
          7.8,
          6,
          5.95,
          5.466666666666666,
          5.12,
          6.7,
          5.466666666666666,
          4.95,
          3.4,
          5.333333333333333,
          6.014285714285714,
          5.3999999999999995,
          3.7399999999999998,
          4.6,
          4.942857142857143,
          3.9,
          6.0875,
          6.4375,
          5.6,
          6.1499999999999995,
          6.218181818181819,
          5.763636363636364,
          6.65,
          5.791666666666667,
          6.550000000000001,
          6.5
         ],
         "yaxis": "y"
        },
        {
         "hovertemplate": "Genre=Action<br>Year=%{x}<br>Rating=%{y}<extra></extra>",
         "legendgroup": "Action",
         "line": {
          "color": "#FFA15A",
          "dash": "solid"
         },
         "marker": {
          "symbol": "circle"
         },
         "mode": "lines",
         "name": "Action",
         "orientation": "v",
         "showlegend": true,
         "type": "scatter",
         "x": [
          1935,
          1939,
          1940,
          1951,
          1952,
          1953,
          1954,
          1955,
          1956,
          1957,
          1958,
          1959,
          1960,
          1961,
          1962,
          1963,
          1964,
          1965,
          1966,
          1967,
          1968,
          1969,
          1970,
          1971,
          1972,
          1973,
          1974,
          1975,
          1976,
          1977,
          1978,
          1979,
          1980,
          1981,
          1982,
          1983,
          1984,
          1985,
          1986,
          1987,
          1988,
          1989,
          1990,
          1991,
          1992,
          1993,
          1994,
          1995,
          1996,
          1997,
          1998,
          1999,
          2000,
          2001,
          2002,
          2003,
          2004,
          2005,
          2006,
          2007,
          2008,
          2009,
          2010,
          2011,
          2012,
          2013,
          2014,
          2015,
          2016,
          2017,
          2018,
          2019,
          2020,
          2021
         ],
         "xaxis": "x",
         "y": [
          4.5,
          6.6,
          6.1,
          6.550000000000001,
          6.95,
          5.949999999999999,
          6.15,
          6.3,
          6.2,
          6.8,
          6.033333333333334,
          6.225,
          6.640000000000001,
          6.25,
          5.666666666666667,
          6.14,
          5.7,
          6.257142857142857,
          6.3125,
          6.016666666666667,
          6.2,
          6.32,
          6.207692307692308,
          6.214285714285714,
          5.864705882352942,
          6.22,
          6.369230769230769,
          6.371428571428572,
          6.076470588235294,
          5.823076923076924,
          6.2625,
          6.078947368421052,
          6.4639999999999995,
          6.1499999999999995,
          6.132000000000001,
          5.961904761904762,
          5.746666666666667,
          5.7,
          5.862962962962963,
          5.5636363636363635,
          5.474285714285714,
          5.521739130434782,
          5.386842105263158,
          5.1775,
          5.478378378378378,
          5.3,
          5.071428571428571,
          5.174418604651163,
          5.175675675675675,
          5.160526315789474,
          5.062162162162163,
          5.2924999999999995,
          4.9184210526315795,
          5.387096774193548,
          5.220512820512821,
          4.833333333333333,
          5.174418604651163,
          5.447826086956522,
          4.8,
          5.23,
          4.9678571428571425,
          4.934210526315789,
          5.277777777777778,
          5.290909090909091,
          5.4423076923076925,
          5.288095238095238,
          5.152777777777778,
          5.697297297297298,
          5.6421052631578945,
          5.935135135135135,
          5.814705882352941,
          5.764705882352941,
          5.896,
          5.9125
         ],
         "yaxis": "y"
        },
        {
         "hovertemplate": "Genre=Family<br>Year=%{x}<br>Rating=%{y}<extra></extra>",
         "legendgroup": "Family",
         "line": {
          "color": "#19d3f3",
          "dash": "solid"
         },
         "marker": {
          "symbol": "circle"
         },
         "mode": "lines",
         "name": "Family",
         "orientation": "v",
         "showlegend": true,
         "type": "scatter",
         "x": [
          1937,
          1942,
          1943,
          1948,
          1949,
          1950,
          1951,
          1953,
          1954,
          1955,
          1957,
          1958,
          1959,
          1960,
          1961,
          1962,
          1963,
          1964,
          1965,
          1966,
          1967,
          1968,
          1969,
          1970,
          1971,
          1972,
          1973,
          1974,
          1975,
          1976,
          1977,
          1978,
          1979,
          1980,
          1981,
          1982,
          1983,
          1984,
          1985,
          1986,
          1987,
          1988,
          1989,
          1990,
          1991,
          1992,
          1993,
          1994,
          1995,
          1996,
          1997,
          1998,
          1999,
          2000,
          2001,
          2002,
          2003,
          2004,
          2005,
          2006,
          2007,
          2008,
          2009,
          2010,
          2011,
          2012,
          2013,
          2014,
          2015,
          2016,
          2017,
          2018,
          2019,
          2020,
          2021
         ],
         "xaxis": "x",
         "y": [
          5.9,
          6.2,
          7.2,
          6.6,
          6.833333333333333,
          6.85,
          7,
          7.05,
          6.575,
          7.25,
          7.279999999999999,
          6.5,
          6.5,
          6.6,
          6.6000000000000005,
          6.58,
          6.6,
          6.875,
          6.575,
          6.6000000000000005,
          6.416666666666667,
          6.466666666666666,
          6.228571428571429,
          6.45,
          6.62,
          6.575,
          6.271428571428571,
          6.833333333333333,
          6.333333333333333,
          6.42,
          6.8,
          6.855555555555556,
          6.172727272727273,
          6.216666666666666,
          6.872727272727272,
          6.369230769230769,
          6.38,
          5.977777777777778,
          6.216666666666666,
          6.720000000000001,
          5.8,
          5.333333333333333,
          6.01,
          4.5,
          4.1,
          5.833333333333333,
          5.8,
          5.949999999999999,
          3.8499999999999996,
          5.5,
          6.666666666666667,
          4.7,
          6.2,
          6.416666666666667,
          5.1499999999999995,
          6.34,
          5.2,
          5.633333333333333,
          5.985714285714286,
          5.65,
          6.540000000000001,
          5.071428571428571,
          6,
          6.144444444444444,
          6.214285714285714,
          6.181818181818182,
          6.6499999999999995,
          5.416666666666667,
          5.788888888888889,
          6.775,
          6.355555555555556,
          6.277777777777778,
          7.6000000000000005,
          7.6000000000000005,
          7.375
         ],
         "yaxis": "y"
        },
        {
         "hovertemplate": "Genre=Mystery<br>Year=%{x}<br>Rating=%{y}<extra></extra>",
         "legendgroup": "Mystery",
         "line": {
          "color": "#FF6692",
          "dash": "solid"
         },
         "marker": {
          "symbol": "circle"
         },
         "mode": "lines",
         "name": "Mystery",
         "orientation": "v",
         "showlegend": true,
         "type": "scatter",
         "x": [
          1941,
          1943,
          1949,
          1950,
          1952,
          1957,
          1958,
          1959,
          1960,
          1962,
          1963,
          1964,
          1965,
          1966,
          1967,
          1968,
          1969,
          1970,
          1971,
          1973,
          1974,
          1975,
          1977,
          1978,
          1979,
          1980,
          1981,
          1982,
          1984,
          1985,
          1986,
          1987,
          1988,
          1989,
          1991,
          1992,
          1993,
          1994,
          1996,
          1997,
          1998,
          1999,
          2000,
          2001,
          2002,
          2003,
          2004,
          2005,
          2006,
          2007,
          2008,
          2009,
          2010,
          2011,
          2012,
          2013,
          2014,
          2015,
          2016,
          2017,
          2018,
          2019,
          2020,
          2021
         ],
         "xaxis": "x",
         "y": [
          7,
          3.3,
          7.1,
          7.1,
          7.3,
          6.5,
          7,
          6.75,
          6.95,
          6.949999999999999,
          5.7,
          7.3,
          6.566666666666666,
          6.525,
          6.8500000000000005,
          6.95,
          6.825,
          6.5,
          6.933333333333334,
          6.566666666666666,
          6.666666666666667,
          6.24,
          6.5,
          6.4,
          6.05,
          6.125,
          6.24,
          7.3,
          4.8,
          5.2,
          7.15,
          5.1,
          6,
          6.125,
          4,
          7.2,
          5.025,
          4.4,
          5,
          5.75,
          3.75,
          7.8,
          5.033333333333333,
          5.833333333333333,
          5.449999999999999,
          4.675,
          4.866666666666666,
          5.3533333333333335,
          5.266666666666667,
          6.233333333333333,
          5.61,
          5.576923076923077,
          5.4,
          5.328571428571428,
          6.05,
          4.6571428571428575,
          5.285714285714286,
          5.883333333333333,
          5.691666666666666,
          5.661538461538461,
          5.572727272727272,
          6.923076923076923,
          6.13,
          5.5
         ],
         "yaxis": "y"
        },
        {
         "hovertemplate": "Genre=Comedy<br>Year=%{x}<br>Rating=%{y}<extra></extra>",
         "legendgroup": "Comedy",
         "line": {
          "color": "#B6E880",
          "dash": "solid"
         },
         "marker": {
          "symbol": "circle"
         },
         "mode": "lines",
         "name": "Comedy",
         "orientation": "v",
         "showlegend": true,
         "type": "scatter",
         "x": [
          1943,
          1946,
          1947,
          1949,
          1950,
          1951,
          1952,
          1953,
          1954,
          1955,
          1956,
          1957,
          1958,
          1959,
          1960,
          1961,
          1962,
          1963,
          1964,
          1965,
          1966,
          1967,
          1968,
          1969,
          1970,
          1971,
          1972,
          1973,
          1974,
          1975,
          1976,
          1977,
          1978,
          1979,
          1980,
          1981,
          1982,
          1983,
          1984,
          1985,
          1986,
          1987,
          1988,
          1989,
          1990,
          1991,
          1992,
          1993,
          1994,
          1995,
          1996,
          1997,
          1998,
          1999,
          2000,
          2001,
          2002,
          2003,
          2004,
          2005,
          2006,
          2007,
          2008,
          2009,
          2010,
          2011,
          2012,
          2013,
          2014,
          2015,
          2016,
          2017,
          2018,
          2019,
          2020,
          2021
         ],
         "xaxis": "x",
         "y": [
          6.9,
          6.5,
          7.4,
          6.4,
          7.1,
          6.65,
          7.4,
          6.7,
          6.966666666666666,
          7.109999999999999,
          6.655555555555555,
          7,
          7.5,
          7.45,
          6.725,
          6.866666666666666,
          6.466666666666667,
          6.8428571428571425,
          6.6499999999999995,
          6.1,
          6.945454545454546,
          6.5,
          6.216666666666666,
          6.2555555555555555,
          6.7555555555555555,
          6.62,
          6.3428571428571425,
          6.275,
          6.583333333333333,
          6.57,
          6.871428571428572,
          6.4750000000000005,
          6.636363636363637,
          6.55,
          6.85,
          6.681818181818182,
          6.608333333333333,
          6.43125,
          6.442857142857143,
          6.180000000000001,
          6.3,
          6,
          6.228571428571429,
          5.733333333333333,
          5.87,
          5.64,
          6.066666666666666,
          5.625,
          5.8100000000000005,
          5.571428571428571,
          5.79375,
          5.705555555555556,
          5.7700000000000005,
          5.17,
          4.86875,
          5.389473684210526,
          4.984210526315789,
          5.425,
          4.95,
          5.411111111111111,
          5.55,
          5.5525,
          5.154761904761905,
          5.397872340425532,
          5.627999999999999,
          5.282456140350877,
          5.440384615384615,
          5.334782608695653,
          5.4,
          5.411666666666666,
          5.191666666666666,
          5.7784313725490195,
          5.694642857142857,
          5.901724137931034,
          5.756410256410256,
          6.300000000000001
         ],
         "yaxis": "y"
        },
        {
         "hovertemplate": "Genre=Crime<br>Year=%{x}<br>Rating=%{y}<extra></extra>",
         "legendgroup": "Crime",
         "line": {
          "color": "#FF97FF",
          "dash": "solid"
         },
         "marker": {
          "symbol": "circle"
         },
         "mode": "lines",
         "name": "Crime",
         "orientation": "v",
         "showlegend": true,
         "type": "scatter",
         "x": [
          1949,
          1950,
          1951,
          1952,
          1953,
          1954,
          1955,
          1956,
          1957,
          1958,
          1959,
          1960,
          1961,
          1962,
          1963,
          1965,
          1966,
          1967,
          1968,
          1969,
          1970,
          1971,
          1972,
          1973,
          1974,
          1975,
          1976,
          1977,
          1978,
          1979,
          1980,
          1981,
          1982,
          1983,
          1984,
          1985,
          1986,
          1987,
          1988,
          1989,
          1990,
          1991,
          1992,
          1993,
          1994,
          1995,
          1996,
          1997,
          1998,
          1999,
          2000,
          2001,
          2002,
          2003,
          2004,
          2005,
          2006,
          2007,
          2008,
          2009,
          2010,
          2011,
          2012,
          2013,
          2014,
          2015,
          2016,
          2017,
          2018,
          2019,
          2020,
          2021
         ],
         "xaxis": "x",
         "y": [
          7.45,
          7.1,
          7.3,
          7.2,
          7.55,
          6.2,
          6.58,
          6.466666666666666,
          7.05,
          6.833333333333333,
          6.949999999999999,
          7.220000000000001,
          6.3999999999999995,
          5.7,
          6.666666666666667,
          6.35,
          6.5,
          6.614285714285714,
          6.36,
          6.55,
          5.86,
          6.333333333333333,
          5.983333333333333,
          6,
          6.325,
          6.1625,
          6.2727272727272725,
          6.185714285714285,
          6.016666666666667,
          6.575,
          6.55,
          6.345454545454545,
          6.1571428571428575,
          6.771428571428571,
          5.728571428571429,
          5.884615384615385,
          6.5,
          5.840000000000001,
          6.109090909090909,
          5.496428571428572,
          5.329411764705882,
          4.83,
          5.738461538461538,
          5.75,
          4.891666666666667,
          5.3,
          5.288888888888889,
          5.8428571428571425,
          5.869230769230769,
          5.864285714285714,
          5.036842105263158,
          5,
          5.564285714285715,
          5.883333333333333,
          5.652380952380953,
          5.738095238095238,
          5.165217391304347,
          5.125925925925926,
          5.590625,
          5.482352941176471,
          5.614705882352942,
          5.534285714285714,
          5.577272727272727,
          5.403703703703704,
          6.025925925925925,
          6.3999999999999995,
          6.179166666666667,
          6.115,
          5.89375,
          6.382608695652174,
          6.665217391304348,
          5.62
         ],
         "yaxis": "y"
        },
        {
         "hovertemplate": "Genre=Thriller<br>Year=%{x}<br>Rating=%{y}<extra></extra>",
         "legendgroup": "Thriller",
         "line": {
          "color": "#FECB52",
          "dash": "solid"
         },
         "marker": {
          "symbol": "circle"
         },
         "mode": "lines",
         "name": "Thriller",
         "orientation": "v",
         "showlegend": true,
         "type": "scatter",
         "x": [
          1952,
          1954,
          1957,
          1958,
          1959,
          1960,
          1962,
          1964,
          1965,
          1966,
          1967,
          1968,
          1969,
          1970,
          1971,
          1972,
          1973,
          1974,
          1975,
          1976,
          1977,
          1978,
          1979,
          1980,
          1981,
          1982,
          1983,
          1984,
          1985,
          1986,
          1987,
          1988,
          1989,
          1990,
          1991,
          1992,
          1993,
          1994,
          1995,
          1996,
          1997,
          1998,
          1999,
          2000,
          2001,
          2002,
          2003,
          2004,
          2005,
          2006,
          2007,
          2008,
          2009,
          2010,
          2011,
          2012,
          2013,
          2014,
          2015,
          2016,
          2017,
          2018,
          2019,
          2020,
          2021
         ],
         "xaxis": "x",
         "y": [
          7.2,
          6.6,
          6.8,
          6.233333333333333,
          6.7,
          6.4,
          6.949999999999999,
          6.566666666666666,
          6.825,
          6,
          6.733333333333333,
          6.725,
          6.5,
          6.675,
          6.466666666666666,
          6.5,
          6.155555555555555,
          6.6,
          6.1125,
          6.35,
          5.733333333333333,
          6.8,
          6.433333333333334,
          6.1125,
          6.366666666666666,
          5.900000000000001,
          4.5,
          5.75,
          6.1499999999999995,
          6.655555555555555,
          5.6000000000000005,
          5.35,
          6,
          5.55,
          5.644444444444444,
          5.885714285714286,
          5.022222222222222,
          5.91,
          5.76,
          4.59,
          4.95,
          4.6,
          5.6000000000000005,
          5.357142857142857,
          5.9,
          5.14,
          4.91875,
          4.973684210526316,
          4.6230769230769235,
          5.183333333333334,
          4.3,
          5.608333333333333,
          6.0249999999999995,
          5.23125,
          5.715,
          5.052380952380952,
          5.4,
          5.446428571428571,
          5.794444444444444,
          6.1625,
          6,
          5.515625,
          5.697058823529411,
          5.444,
          5.3545454545454545
         ],
         "yaxis": "y"
        }
       ],
       "layout": {
        "autosize": true,
        "legend": {
         "title": {
          "text": "Genre"
         },
         "tracegroupgap": 0
        },
        "margin": {
         "t": 60
        },
        "template": {
         "data": {
          "bar": [
           {
            "error_x": {
             "color": "#2a3f5f"
            },
            "error_y": {
             "color": "#2a3f5f"
            },
            "marker": {
             "line": {
              "color": "#E5ECF6",
              "width": 0.5
             },
             "pattern": {
              "fillmode": "overlay",
              "size": 10,
              "solidity": 0.2
             }
            },
            "type": "bar"
           }
          ],
          "barpolar": [
           {
            "marker": {
             "line": {
              "color": "#E5ECF6",
              "width": 0.5
             },
             "pattern": {
              "fillmode": "overlay",
              "size": 10,
              "solidity": 0.2
             }
            },
            "type": "barpolar"
           }
          ],
          "carpet": [
           {
            "aaxis": {
             "endlinecolor": "#2a3f5f",
             "gridcolor": "white",
             "linecolor": "white",
             "minorgridcolor": "white",
             "startlinecolor": "#2a3f5f"
            },
            "baxis": {
             "endlinecolor": "#2a3f5f",
             "gridcolor": "white",
             "linecolor": "white",
             "minorgridcolor": "white",
             "startlinecolor": "#2a3f5f"
            },
            "type": "carpet"
           }
          ],
          "choropleth": [
           {
            "colorbar": {
             "outlinewidth": 0,
             "ticks": ""
            },
            "type": "choropleth"
           }
          ],
          "contour": [
           {
            "colorbar": {
             "outlinewidth": 0,
             "ticks": ""
            },
            "colorscale": [
             [
              0,
              "#0d0887"
             ],
             [
              0.1111111111111111,
              "#46039f"
             ],
             [
              0.2222222222222222,
              "#7201a8"
             ],
             [
              0.3333333333333333,
              "#9c179e"
             ],
             [
              0.4444444444444444,
              "#bd3786"
             ],
             [
              0.5555555555555556,
              "#d8576b"
             ],
             [
              0.6666666666666666,
              "#ed7953"
             ],
             [
              0.7777777777777778,
              "#fb9f3a"
             ],
             [
              0.8888888888888888,
              "#fdca26"
             ],
             [
              1,
              "#f0f921"
             ]
            ],
            "type": "contour"
           }
          ],
          "contourcarpet": [
           {
            "colorbar": {
             "outlinewidth": 0,
             "ticks": ""
            },
            "type": "contourcarpet"
           }
          ],
          "heatmap": [
           {
            "colorbar": {
             "outlinewidth": 0,
             "ticks": ""
            },
            "colorscale": [
             [
              0,
              "#0d0887"
             ],
             [
              0.1111111111111111,
              "#46039f"
             ],
             [
              0.2222222222222222,
              "#7201a8"
             ],
             [
              0.3333333333333333,
              "#9c179e"
             ],
             [
              0.4444444444444444,
              "#bd3786"
             ],
             [
              0.5555555555555556,
              "#d8576b"
             ],
             [
              0.6666666666666666,
              "#ed7953"
             ],
             [
              0.7777777777777778,
              "#fb9f3a"
             ],
             [
              0.8888888888888888,
              "#fdca26"
             ],
             [
              1,
              "#f0f921"
             ]
            ],
            "type": "heatmap"
           }
          ],
          "heatmapgl": [
           {
            "colorbar": {
             "outlinewidth": 0,
             "ticks": ""
            },
            "colorscale": [
             [
              0,
              "#0d0887"
             ],
             [
              0.1111111111111111,
              "#46039f"
             ],
             [
              0.2222222222222222,
              "#7201a8"
             ],
             [
              0.3333333333333333,
              "#9c179e"
             ],
             [
              0.4444444444444444,
              "#bd3786"
             ],
             [
              0.5555555555555556,
              "#d8576b"
             ],
             [
              0.6666666666666666,
              "#ed7953"
             ],
             [
              0.7777777777777778,
              "#fb9f3a"
             ],
             [
              0.8888888888888888,
              "#fdca26"
             ],
             [
              1,
              "#f0f921"
             ]
            ],
            "type": "heatmapgl"
           }
          ],
          "histogram": [
           {
            "marker": {
             "pattern": {
              "fillmode": "overlay",
              "size": 10,
              "solidity": 0.2
             }
            },
            "type": "histogram"
           }
          ],
          "histogram2d": [
           {
            "colorbar": {
             "outlinewidth": 0,
             "ticks": ""
            },
            "colorscale": [
             [
              0,
              "#0d0887"
             ],
             [
              0.1111111111111111,
              "#46039f"
             ],
             [
              0.2222222222222222,
              "#7201a8"
             ],
             [
              0.3333333333333333,
              "#9c179e"
             ],
             [
              0.4444444444444444,
              "#bd3786"
             ],
             [
              0.5555555555555556,
              "#d8576b"
             ],
             [
              0.6666666666666666,
              "#ed7953"
             ],
             [
              0.7777777777777778,
              "#fb9f3a"
             ],
             [
              0.8888888888888888,
              "#fdca26"
             ],
             [
              1,
              "#f0f921"
             ]
            ],
            "type": "histogram2d"
           }
          ],
          "histogram2dcontour": [
           {
            "colorbar": {
             "outlinewidth": 0,
             "ticks": ""
            },
            "colorscale": [
             [
              0,
              "#0d0887"
             ],
             [
              0.1111111111111111,
              "#46039f"
             ],
             [
              0.2222222222222222,
              "#7201a8"
             ],
             [
              0.3333333333333333,
              "#9c179e"
             ],
             [
              0.4444444444444444,
              "#bd3786"
             ],
             [
              0.5555555555555556,
              "#d8576b"
             ],
             [
              0.6666666666666666,
              "#ed7953"
             ],
             [
              0.7777777777777778,
              "#fb9f3a"
             ],
             [
              0.8888888888888888,
              "#fdca26"
             ],
             [
              1,
              "#f0f921"
             ]
            ],
            "type": "histogram2dcontour"
           }
          ],
          "mesh3d": [
           {
            "colorbar": {
             "outlinewidth": 0,
             "ticks": ""
            },
            "type": "mesh3d"
           }
          ],
          "parcoords": [
           {
            "line": {
             "colorbar": {
              "outlinewidth": 0,
              "ticks": ""
             }
            },
            "type": "parcoords"
           }
          ],
          "pie": [
           {
            "automargin": true,
            "type": "pie"
           }
          ],
          "scatter": [
           {
            "fillpattern": {
             "fillmode": "overlay",
             "size": 10,
             "solidity": 0.2
            },
            "type": "scatter"
           }
          ],
          "scatter3d": [
           {
            "line": {
             "colorbar": {
              "outlinewidth": 0,
              "ticks": ""
             }
            },
            "marker": {
             "colorbar": {
              "outlinewidth": 0,
              "ticks": ""
             }
            },
            "type": "scatter3d"
           }
          ],
          "scattercarpet": [
           {
            "marker": {
             "colorbar": {
              "outlinewidth": 0,
              "ticks": ""
             }
            },
            "type": "scattercarpet"
           }
          ],
          "scattergeo": [
           {
            "marker": {
             "colorbar": {
              "outlinewidth": 0,
              "ticks": ""
             }
            },
            "type": "scattergeo"
           }
          ],
          "scattergl": [
           {
            "marker": {
             "colorbar": {
              "outlinewidth": 0,
              "ticks": ""
             }
            },
            "type": "scattergl"
           }
          ],
          "scattermapbox": [
           {
            "marker": {
             "colorbar": {
              "outlinewidth": 0,
              "ticks": ""
             }
            },
            "type": "scattermapbox"
           }
          ],
          "scatterpolar": [
           {
            "marker": {
             "colorbar": {
              "outlinewidth": 0,
              "ticks": ""
             }
            },
            "type": "scatterpolar"
           }
          ],
          "scatterpolargl": [
           {
            "marker": {
             "colorbar": {
              "outlinewidth": 0,
              "ticks": ""
             }
            },
            "type": "scatterpolargl"
           }
          ],
          "scatterternary": [
           {
            "marker": {
             "colorbar": {
              "outlinewidth": 0,
              "ticks": ""
             }
            },
            "type": "scatterternary"
           }
          ],
          "surface": [
           {
            "colorbar": {
             "outlinewidth": 0,
             "ticks": ""
            },
            "colorscale": [
             [
              0,
              "#0d0887"
             ],
             [
              0.1111111111111111,
              "#46039f"
             ],
             [
              0.2222222222222222,
              "#7201a8"
             ],
             [
              0.3333333333333333,
              "#9c179e"
             ],
             [
              0.4444444444444444,
              "#bd3786"
             ],
             [
              0.5555555555555556,
              "#d8576b"
             ],
             [
              0.6666666666666666,
              "#ed7953"
             ],
             [
              0.7777777777777778,
              "#fb9f3a"
             ],
             [
              0.8888888888888888,
              "#fdca26"
             ],
             [
              1,
              "#f0f921"
             ]
            ],
            "type": "surface"
           }
          ],
          "table": [
           {
            "cells": {
             "fill": {
              "color": "#EBF0F8"
             },
             "line": {
              "color": "white"
             }
            },
            "header": {
             "fill": {
              "color": "#C8D4E3"
             },
             "line": {
              "color": "white"
             }
            },
            "type": "table"
           }
          ]
         },
         "layout": {
          "annotationdefaults": {
           "arrowcolor": "#2a3f5f",
           "arrowhead": 0,
           "arrowwidth": 1
          },
          "autotypenumbers": "strict",
          "coloraxis": {
           "colorbar": {
            "outlinewidth": 0,
            "ticks": ""
           }
          },
          "colorscale": {
           "diverging": [
            [
             0,
             "#8e0152"
            ],
            [
             0.1,
             "#c51b7d"
            ],
            [
             0.2,
             "#de77ae"
            ],
            [
             0.3,
             "#f1b6da"
            ],
            [
             0.4,
             "#fde0ef"
            ],
            [
             0.5,
             "#f7f7f7"
            ],
            [
             0.6,
             "#e6f5d0"
            ],
            [
             0.7,
             "#b8e186"
            ],
            [
             0.8,
             "#7fbc41"
            ],
            [
             0.9,
             "#4d9221"
            ],
            [
             1,
             "#276419"
            ]
           ],
           "sequential": [
            [
             0,
             "#0d0887"
            ],
            [
             0.1111111111111111,
             "#46039f"
            ],
            [
             0.2222222222222222,
             "#7201a8"
            ],
            [
             0.3333333333333333,
             "#9c179e"
            ],
            [
             0.4444444444444444,
             "#bd3786"
            ],
            [
             0.5555555555555556,
             "#d8576b"
            ],
            [
             0.6666666666666666,
             "#ed7953"
            ],
            [
             0.7777777777777778,
             "#fb9f3a"
            ],
            [
             0.8888888888888888,
             "#fdca26"
            ],
            [
             1,
             "#f0f921"
            ]
           ],
           "sequentialminus": [
            [
             0,
             "#0d0887"
            ],
            [
             0.1111111111111111,
             "#46039f"
            ],
            [
             0.2222222222222222,
             "#7201a8"
            ],
            [
             0.3333333333333333,
             "#9c179e"
            ],
            [
             0.4444444444444444,
             "#bd3786"
            ],
            [
             0.5555555555555556,
             "#d8576b"
            ],
            [
             0.6666666666666666,
             "#ed7953"
            ],
            [
             0.7777777777777778,
             "#fb9f3a"
            ],
            [
             0.8888888888888888,
             "#fdca26"
            ],
            [
             1,
             "#f0f921"
            ]
           ]
          },
          "colorway": [
           "#636efa",
           "#EF553B",
           "#00cc96",
           "#ab63fa",
           "#FFA15A",
           "#19d3f3",
           "#FF6692",
           "#B6E880",
           "#FF97FF",
           "#FECB52"
          ],
          "font": {
           "color": "#2a3f5f"
          },
          "geo": {
           "bgcolor": "white",
           "lakecolor": "white",
           "landcolor": "#E5ECF6",
           "showlakes": true,
           "showland": true,
           "subunitcolor": "white"
          },
          "hoverlabel": {
           "align": "left"
          },
          "hovermode": "closest",
          "mapbox": {
           "style": "light"
          },
          "paper_bgcolor": "white",
          "plot_bgcolor": "#E5ECF6",
          "polar": {
           "angularaxis": {
            "gridcolor": "white",
            "linecolor": "white",
            "ticks": ""
           },
           "bgcolor": "#E5ECF6",
           "radialaxis": {
            "gridcolor": "white",
            "linecolor": "white",
            "ticks": ""
           }
          },
          "scene": {
           "xaxis": {
            "backgroundcolor": "#E5ECF6",
            "gridcolor": "white",
            "gridwidth": 2,
            "linecolor": "white",
            "showbackground": true,
            "ticks": "",
            "zerolinecolor": "white"
           },
           "yaxis": {
            "backgroundcolor": "#E5ECF6",
            "gridcolor": "white",
            "gridwidth": 2,
            "linecolor": "white",
            "showbackground": true,
            "ticks": "",
            "zerolinecolor": "white"
           },
           "zaxis": {
            "backgroundcolor": "#E5ECF6",
            "gridcolor": "white",
            "gridwidth": 2,
            "linecolor": "white",
            "showbackground": true,
            "ticks": "",
            "zerolinecolor": "white"
           }
          },
          "shapedefaults": {
           "line": {
            "color": "#2a3f5f"
           }
          },
          "ternary": {
           "aaxis": {
            "gridcolor": "white",
            "linecolor": "white",
            "ticks": ""
           },
           "baxis": {
            "gridcolor": "white",
            "linecolor": "white",
            "ticks": ""
           },
           "bgcolor": "#E5ECF6",
           "caxis": {
            "gridcolor": "white",
            "linecolor": "white",
            "ticks": ""
           }
          },
          "title": {
           "x": 0.05
          },
          "xaxis": {
           "automargin": true,
           "gridcolor": "white",
           "linecolor": "white",
           "ticks": "",
           "title": {
            "standoff": 15
           },
           "zerolinecolor": "white",
           "zerolinewidth": 2
          },
          "yaxis": {
           "automargin": true,
           "gridcolor": "white",
           "linecolor": "white",
           "ticks": "",
           "title": {
            "standoff": 15
           },
           "zerolinecolor": "white",
           "zerolinewidth": 2
          }
         }
        },
        "title": {
         "text": "Average Rating by year for Top Genres"
        },
        "xaxis": {
         "anchor": "y",
         "autorange": true,
         "domain": [
          0,
          1
         ],
         "range": [
          1931,
          2021
         ],
         "title": {
          "text": "Year"
         },
         "type": "linear"
        },
        "yaxis": {
         "anchor": "x",
         "autorange": true,
         "domain": [
          0,
          1
         ],
         "range": [
          2.377777777777778,
          8.822222222222223
         ],
         "title": {
          "text": "Average Rating"
         },
         "type": "linear"
        }
       }
      },
      "image/png": "[encoded data removed]",
      "text/html": [
       "<div>                            <div id=\"a7ba266c-38af-45f3-8783-4c48c998db72\" class=\"plotly-graph-div\" style=\"height:525px; width:100%;\"></div>            <script type=\"text/javascript\">                require([\"plotly\"], function(Plotly) {                    window.PLOTLYENV=window.PLOTLYENV || {};                                    if (document.getElementById(\"a7ba266c-38af-45f3-8783-4c48c998db72\")) {                    Plotly.newPlot(                        \"a7ba266c-38af-45f3-8783-4c48c998db72\",                        [{\"hovertemplate\":\"Genre=Drama\\u003cbr\\u003eYear=%{x}\\u003cbr\\u003eRating=%{y}\\u003cextra\\u003e\\u003c\\u002fextra\\u003e\",\"legendgroup\":\"Drama\",\"line\":{\"color\":\"#636efa\",\"dash\":\"solid\"},\"marker\":{\"symbol\":\"circle\"},\"mode\":\"lines\",\"name\":\"Drama\",\"orientation\":\"v\",\"showlegend\":true,\"x\":[1931,1933,1934,1935,1936,1937,1938,1939,1940,1941,1942,1943,1944,1945,1946,1947,1948,1949,1950,1951,1952,1953,1954,1955,1956,1957,1958,1959,1960,1961,1962,1963,1964,1965,1966,1967,1968,1969,1970,1971,1972,1973,1974,1975,1976,1977,1978,1979,1980,1981,1982,1983,1984,1985,1986,1987,1988,1989,1990,1991,1992,1993,1994,1995,1996,1997,1998,1999,2000,2001,2002,2003,2004,2005,2006,2007,2008,2009,2010,2011,2012,2013,2014,2015,2016,2017,2018,2019,2020,2021],\"xaxis\":\"x\",\"y\":[5.75,6.2,8.5,6.633333333333333,6.3500000000000005,6.525,6.05,6.4,6.859999999999999,6.475,6.783333333333334,7.257142857142857,7.033333333333334,6.466666666666666,6.933333333333334,6.85,6.8875,6.99,6.806666666666667,6.618181818181818,7.408333333333334,7.161538461538461,6.493333333333334,6.823529411764706,6.592307692307693,7.131818181818182,6.42,6.746666666666667,6.921052631578948,6.8,6.515789473684211,6.504545454545454,6.72,6.75,6.653571428571429,6.64375,6.513333333333334,6.4,6.861764705882353,6.685714285714286,6.373809523809523,6.511428571428572,6.732558139534884,6.625,6.3625,6.462790697674418,6.561111111111111,6.371794871794871,6.43,6.5,6.51,6.519148936170212,6.191304347826088,6.290909090909091,6.005357142857143,5.854054054054054,6.032,5.874193548387097,5.524528301886793,5.5653061224489795,5.657692307692307,5.46271186440678,5.346296296296296,5.343181818181818,5.5260869565217385,5.679245283018868,5.789795918367346,5.540816326530612,5.484615384615385,5.58,5.415254237288136,5.354166666666667,5.311764705882353,5.729126213592234,5.495945945945945,5.7552941176470584,5.478571428571429,5.583529411764706,5.527722772277227,5.642708333333334,6.150769230769231,5.965137614678899,5.940217391304348,5.922641509433962,6.214423076923077,6.142276422764228,6.440625,6.447260273972603,6.392941176470588,6.797435897435898],\"yaxis\":\"y\",\"type\":\"scatter\"},{\"hovertemplate\":\"Genre=Musical\\u003cbr\\u003eYear=%{x}\\u003cbr\\u003eRating=%{y}\\u003cextra\\u003e\\u003c\\u002fextra\\u003e\",\"legendgroup\":\"Musical\",\"line\":{\"color\":\"#EF553B\",\"dash\":\"solid\"},\"marker\":{\"symbol\":\"circle\"},\"mode\":\"lines\",\"name\":\"Musical\",\"orientation\":\"v\",\"showlegend\":true,\"x\":[1932,1936,1942,1943,1944,1946,1947,1948,1949,1950,1951,1952,1953,1954,1955,1956,1957,1958,1959,1960,1961,1962,1963,1964,1965,1966,1967,1968,1969,1970,1971,1972,1973,1974,1975,1977,1978,1979,1980,1981,1982,1983,1984,1985,1986,1987,1988,1989,1990,1991,1992,1993,1994,1995,1996,1997,1998,1999,2000,2001,2002,2003,2004,2005,2006,2007,2008,2009,2010,2011,2012,2013,2014,2015,2016,2017,2018,2019,2020,2021],\"xaxis\":\"x\",\"y\":[6.0,6.5,6.8,7.5,7.2,7.3,7.7,6.833333333333333,7.133333333333333,7.2,7.45,7.4,7.233333333333333,6.6499999999999995,7.1000000000000005,7.26,7.6,7.0625,6.942857142857143,7.125,7.116666666666667,7.1,6.459999999999999,7.31,6.844444444444445,6.8,6.725,6.8999999999999995,6.88,6.628571428571428,6.959999999999999,7.24,7.116666666666667,6.671428571428572,6.949999999999999,6.925,6.800000000000001,7.140000000000001,6.56,6.883333333333333,6.933333333333334,5.966666666666666,6.8,6.9399999999999995,7.3,6.475,7.8,6.4,6.95,6.257142857142858,5.566666666666666,5.633333333333333,6.675,5.375,6.0,5.7272727272727275,5.466666666666666,5.971428571428571,5.390909090909091,5.672727272727273,5.3133333333333335,4.7444444444444445,4.892307692307693,5.266666666666667,5.285714285714286,4.516666666666667,2.966666666666667,5.271428571428571,5.8,5.75,5.483333333333333,5.866666666666667,5.3500000000000005,3.966666666666667,6.0,4.55,2.8,5.4,5.966666666666666,4.1000000000000005],\"yaxis\":\"y\",\"type\":\"scatter\"},{\"hovertemplate\":\"Genre=Romance\\u003cbr\\u003eYear=%{x}\\u003cbr\\u003eRating=%{y}\\u003cextra\\u003e\\u003c\\u002fextra\\u003e\",\"legendgroup\":\"Romance\",\"line\":{\"color\":\"#00cc96\",\"dash\":\"solid\"},\"marker\":{\"symbol\":\"circle\"},\"mode\":\"lines\",\"name\":\"Romance\",\"orientation\":\"v\",\"showlegend\":true,\"x\":[1932,1933,1936,1937,1938,1939,1943,1944,1946,1947,1948,1949,1950,1951,1952,1953,1954,1955,1956,1957,1958,1959,1960,1961,1962,1963,1964,1965,1966,1967,1968,1969,1970,1971,1972,1973,1974,1975,1976,1977,1978,1979,1980,1981,1982,1983,1984,1985,1986,1987,1988,1989,1990,1991,1992,1993,1994,1995,1996,1997,1998,1999,2000,2001,2002,2003,2004,2005,2006,2007,2008,2009,2010,2011,2012,2013,2014,2015,2016,2017,2018,2019,2020,2021],\"xaxis\":\"x\",\"y\":[6.0,6.2,6.35,5.9,5.2,6.4,7.5,7.166666666666667,7.1,6.433333333333334,7.140000000000001,7.0,7.0,6.959999999999999,7.3500000000000005,7.2,6.475,7.3,6.314285714285715,7.141666666666667,6.8,6.7555555555555555,6.875,6.5375,6.833333333333333,6.607692307692308,6.708333333333333,6.95625,6.590000000000001,6.728571428571429,6.58125,6.463157894736842,6.8625,6.7266666666666675,6.363636363636363,6.7,6.689473684210526,6.96,6.382352941176471,6.7299999999999995,6.718181818181819,6.792857142857143,6.566666666666666,6.609999999999999,6.5600000000000005,6.473333333333333,6.0636363636363635,6.214285714285714,6.33,6.266666666666667,5.483333333333333,6.375,5.872727272727272,5.604347826086957,5.55,5.044827586206897,5.133333333333334,4.761111111111111,5.671428571428571,5.08125,5.604761904761905,5.171428571428572,5.104347826086957,5.492592592592593,4.990625,5.487096774193549,4.685185185185185,4.705882352941177,5.075675675675676,5.163333333333333,5.174074074074074,5.247058823529412,5.203703703703703,5.504761904761905,5.1499999999999995,5.561764705882353,5.340476190476191,5.453488372093023,4.703448275862069,5.490322580645161,5.7696969696969695,6.178787878787879,5.791666666666667,6.336363636363637],\"yaxis\":\"y\",\"type\":\"scatter\"},{\"hovertemplate\":\"Genre=Adventure\\u003cbr\\u003eYear=%{x}\\u003cbr\\u003eRating=%{y}\\u003cextra\\u003e\\u003c\\u002fextra\\u003e\",\"legendgroup\":\"Adventure\",\"line\":{\"color\":\"#ab63fa\",\"dash\":\"solid\"},\"marker\":{\"symbol\":\"circle\"},\"mode\":\"lines\",\"name\":\"Adventure\",\"orientation\":\"v\",\"showlegend\":true,\"x\":[1934,1935,1936,1937,1938,1939,1940,1942,1952,1953,1954,1955,1956,1957,1958,1959,1960,1961,1962,1963,1964,1965,1966,1967,1968,1969,1971,1972,1975,1976,1977,1978,1979,1980,1981,1982,1983,1984,1985,1986,1987,1988,1989,1991,1992,1993,1994,1996,1997,1998,2000,2001,2002,2003,2004,2005,2006,2007,2008,2009,2010,2011,2012,2013,2014,2015,2016,2017,2018,2019,2020,2021],\"xaxis\":\"x\",\"y\":[2.7,4.3,3.1,3.4,6.4,6.6,6.1,6.6,6.6000000000000005,7.3,6.266666666666667,6.0,6.025,6.866666666666667,5.475,6.2,6.449999999999999,7.4,6.9,6.12,5.783333333333334,6.56,5.82,5.8,5.800000000000001,6.5,6.8999999999999995,6.65,6.5,6.7,6.28,6.075,6.685714285714285,6.65,6.459999999999999,5.8,7.8,6.95,5.4,6.659999999999999,5.1,6.133333333333333,2.9,6.066666666666666,5.55,7.050000000000001,7.8,6.0,5.95,5.466666666666666,5.12,6.7,5.466666666666666,4.95,3.4,5.333333333333333,6.014285714285714,5.3999999999999995,3.7399999999999998,4.6,4.942857142857143,3.9,6.0875,6.4375,5.6,6.1499999999999995,6.218181818181819,5.763636363636364,6.65,5.791666666666667,6.550000000000001,6.5],\"yaxis\":\"y\",\"type\":\"scatter\"},{\"hovertemplate\":\"Genre=Action\\u003cbr\\u003eYear=%{x}\\u003cbr\\u003eRating=%{y}\\u003cextra\\u003e\\u003c\\u002fextra\\u003e\",\"legendgroup\":\"Action\",\"line\":{\"color\":\"#FFA15A\",\"dash\":\"solid\"},\"marker\":{\"symbol\":\"circle\"},\"mode\":\"lines\",\"name\":\"Action\",\"orientation\":\"v\",\"showlegend\":true,\"x\":[1935,1939,1940,1951,1952,1953,1954,1955,1956,1957,1958,1959,1960,1961,1962,1963,1964,1965,1966,1967,1968,1969,1970,1971,1972,1973,1974,1975,1976,1977,1978,1979,1980,1981,1982,1983,1984,1985,1986,1987,1988,1989,1990,1991,1992,1993,1994,1995,1996,1997,1998,1999,2000,2001,2002,2003,2004,2005,2006,2007,2008,2009,2010,2011,2012,2013,2014,2015,2016,2017,2018,2019,2020,2021],\"xaxis\":\"x\",\"y\":[4.5,6.6,6.1,6.550000000000001,6.95,5.949999999999999,6.15,6.3,6.2,6.8,6.033333333333334,6.225,6.640000000000001,6.25,5.666666666666667,6.14,5.7,6.257142857142857,6.3125,6.016666666666667,6.2,6.32,6.207692307692308,6.214285714285714,5.864705882352942,6.22,6.369230769230769,6.371428571428572,6.076470588235294,5.823076923076924,6.2625,6.078947368421052,6.4639999999999995,6.1499999999999995,6.132000000000001,5.961904761904762,5.746666666666667,5.7,5.862962962962963,5.5636363636363635,5.474285714285714,5.521739130434782,5.386842105263158,5.1775,5.478378378378378,5.3,5.071428571428571,5.174418604651163,5.175675675675675,5.160526315789474,5.062162162162163,5.2924999999999995,4.9184210526315795,5.387096774193548,5.220512820512821,4.833333333333333,5.174418604651163,5.447826086956522,4.8,5.23,4.9678571428571425,4.934210526315789,5.277777777777778,5.290909090909091,5.4423076923076925,5.288095238095238,5.152777777777778,5.697297297297298,5.6421052631578945,5.935135135135135,5.814705882352941,5.764705882352941,5.896,5.9125],\"yaxis\":\"y\",\"type\":\"scatter\"},{\"hovertemplate\":\"Genre=Family\\u003cbr\\u003eYear=%{x}\\u003cbr\\u003eRating=%{y}\\u003cextra\\u003e\\u003c\\u002fextra\\u003e\",\"legendgroup\":\"Family\",\"line\":{\"color\":\"#19d3f3\",\"dash\":\"solid\"},\"marker\":{\"symbol\":\"circle\"},\"mode\":\"lines\",\"name\":\"Family\",\"orientation\":\"v\",\"showlegend\":true,\"x\":[1937,1942,1943,1948,1949,1950,1951,1953,1954,1955,1957,1958,1959,1960,1961,1962,1963,1964,1965,1966,1967,1968,1969,1970,1971,1972,1973,1974,1975,1976,1977,1978,1979,1980,1981,1982,1983,1984,1985,1986,1987,1988,1989,1990,1991,1992,1993,1994,1995,1996,1997,1998,1999,2000,2001,2002,2003,2004,2005,2006,2007,2008,2009,2010,2011,2012,2013,2014,2015,2016,2017,2018,2019,2020,2021],\"xaxis\":\"x\",\"y\":[5.9,6.2,7.2,6.6,6.833333333333333,6.85,7.0,7.05,6.575,7.25,7.279999999999999,6.5,6.5,6.6,6.6000000000000005,6.58,6.6,6.875,6.575,6.6000000000000005,6.416666666666667,6.466666666666666,6.228571428571429,6.45,6.62,6.575,6.271428571428571,6.833333333333333,6.333333333333333,6.42,6.8,6.855555555555556,6.172727272727273,6.216666666666666,6.872727272727272,6.369230769230769,6.38,5.977777777777778,6.216666666666666,6.720000000000001,5.8,5.333333333333333,6.01,4.5,4.1,5.833333333333333,5.8,5.949999999999999,3.8499999999999996,5.5,6.666666666666667,4.7,6.2,6.416666666666667,5.1499999999999995,6.34,5.2,5.633333333333333,5.985714285714286,5.65,6.540000000000001,5.071428571428571,6.0,6.144444444444444,6.214285714285714,6.181818181818182,6.6499999999999995,5.416666666666667,5.788888888888889,6.775,6.355555555555556,6.277777777777778,7.6000000000000005,7.6000000000000005,7.375],\"yaxis\":\"y\",\"type\":\"scatter\"},{\"hovertemplate\":\"Genre=Mystery\\u003cbr\\u003eYear=%{x}\\u003cbr\\u003eRating=%{y}\\u003cextra\\u003e\\u003c\\u002fextra\\u003e\",\"legendgroup\":\"Mystery\",\"line\":{\"color\":\"#FF6692\",\"dash\":\"solid\"},\"marker\":{\"symbol\":\"circle\"},\"mode\":\"lines\",\"name\":\"Mystery\",\"orientation\":\"v\",\"showlegend\":true,\"x\":[1941,1943,1949,1950,1952,1957,1958,1959,1960,1962,1963,1964,1965,1966,1967,1968,1969,1970,1971,1973,1974,1975,1977,1978,1979,1980,1981,1982,1984,1985,1986,1987,1988,1989,1991,1992,1993,1994,1996,1997,1998,1999,2000,2001,2002,2003,2004,2005,2006,2007,2008,2009,2010,2011,2012,2013,2014,2015,2016,2017,2018,2019,2020,2021],\"xaxis\":\"x\",\"y\":[7.0,3.3,7.1,7.1,7.3,6.5,7.0,6.75,6.95,6.949999999999999,5.7,7.3,6.566666666666666,6.525,6.8500000000000005,6.95,6.825,6.5,6.933333333333334,6.566666666666666,6.666666666666667,6.24,6.5,6.4,6.05,6.125,6.24,7.3,4.8,5.2,7.15,5.1,6.0,6.125,4.0,7.2,5.025,4.4,5.0,5.75,3.75,7.8,5.033333333333333,5.833333333333333,5.449999999999999,4.675,4.866666666666666,5.3533333333333335,5.266666666666667,6.233333333333333,5.61,5.576923076923077,5.4,5.328571428571428,6.05,4.6571428571428575,5.285714285714286,5.883333333333333,5.691666666666666,5.661538461538461,5.572727272727272,6.923076923076923,6.13,5.5],\"yaxis\":\"y\",\"type\":\"scatter\"},{\"hovertemplate\":\"Genre=Comedy\\u003cbr\\u003eYear=%{x}\\u003cbr\\u003eRating=%{y}\\u003cextra\\u003e\\u003c\\u002fextra\\u003e\",\"legendgroup\":\"Comedy\",\"line\":{\"color\":\"#B6E880\",\"dash\":\"solid\"},\"marker\":{\"symbol\":\"circle\"},\"mode\":\"lines\",\"name\":\"Comedy\",\"orientation\":\"v\",\"showlegend\":true,\"x\":[1943,1946,1947,1949,1950,1951,1952,1953,1954,1955,1956,1957,1958,1959,1960,1961,1962,1963,1964,1965,1966,1967,1968,1969,1970,1971,1972,1973,1974,1975,1976,1977,1978,1979,1980,1981,1982,1983,1984,1985,1986,1987,1988,1989,1990,1991,1992,1993,1994,1995,1996,1997,1998,1999,2000,2001,2002,2003,2004,2005,2006,2007,2008,2009,2010,2011,2012,2013,2014,2015,2016,2017,2018,2019,2020,2021],\"xaxis\":\"x\",\"y\":[6.9,6.5,7.4,6.4,7.1,6.65,7.4,6.7,6.966666666666666,7.109999999999999,6.655555555555555,7.0,7.5,7.45,6.725,6.866666666666666,6.466666666666667,6.8428571428571425,6.6499999999999995,6.1,6.945454545454546,6.5,6.216666666666666,6.2555555555555555,6.7555555555555555,6.62,6.3428571428571425,6.275,6.583333333333333,6.57,6.871428571428572,6.4750000000000005,6.636363636363637,6.55,6.85,6.681818181818182,6.608333333333333,6.43125,6.442857142857143,6.180000000000001,6.3,6.0,6.228571428571429,5.733333333333333,5.87,5.64,6.066666666666666,5.625,5.8100000000000005,5.571428571428571,5.79375,5.705555555555556,5.7700000000000005,5.17,4.86875,5.389473684210526,4.984210526315789,5.425,4.95,5.411111111111111,5.55,5.5525,5.154761904761905,5.397872340425532,5.627999999999999,5.282456140350877,5.440384615384615,5.334782608695653,5.4,5.411666666666666,5.191666666666666,5.7784313725490195,5.694642857142857,5.901724137931034,5.756410256410256,6.300000000000001],\"yaxis\":\"y\",\"type\":\"scatter\"},{\"hovertemplate\":\"Genre=Crime\\u003cbr\\u003eYear=%{x}\\u003cbr\\u003eRating=%{y}\\u003cextra\\u003e\\u003c\\u002fextra\\u003e\",\"legendgroup\":\"Crime\",\"line\":{\"color\":\"#FF97FF\",\"dash\":\"solid\"},\"marker\":{\"symbol\":\"circle\"},\"mode\":\"lines\",\"name\":\"Crime\",\"orientation\":\"v\",\"showlegend\":true,\"x\":[1949,1950,1951,1952,1953,1954,1955,1956,1957,1958,1959,1960,1961,1962,1963,1965,1966,1967,1968,1969,1970,1971,1972,1973,1974,1975,1976,1977,1978,1979,1980,1981,1982,1983,1984,1985,1986,1987,1988,1989,1990,1991,1992,1993,1994,1995,1996,1997,1998,1999,2000,2001,2002,2003,2004,2005,2006,2007,2008,2009,2010,2011,2012,2013,2014,2015,2016,2017,2018,2019,2020,2021],\"xaxis\":\"x\",\"y\":[7.45,7.1,7.3,7.2,7.55,6.2,6.58,6.466666666666666,7.05,6.833333333333333,6.949999999999999,7.220000000000001,6.3999999999999995,5.7,6.666666666666667,6.35,6.5,6.614285714285714,6.36,6.55,5.86,6.333333333333333,5.983333333333333,6.0,6.325,6.1625,6.2727272727272725,6.185714285714285,6.016666666666667,6.575,6.55,6.345454545454545,6.1571428571428575,6.771428571428571,5.728571428571429,5.884615384615385,6.5,5.840000000000001,6.109090909090909,5.496428571428572,5.329411764705882,4.83,5.738461538461538,5.75,4.891666666666667,5.3,5.288888888888889,5.8428571428571425,5.869230769230769,5.864285714285714,5.036842105263158,5.0,5.564285714285715,5.883333333333333,5.652380952380953,5.738095238095238,5.165217391304347,5.125925925925926,5.590625,5.482352941176471,5.614705882352942,5.534285714285714,5.577272727272727,5.403703703703704,6.025925925925925,6.3999999999999995,6.179166666666667,6.115,5.89375,6.382608695652174,6.665217391304348,5.62],\"yaxis\":\"y\",\"type\":\"scatter\"},{\"hovertemplate\":\"Genre=Thriller\\u003cbr\\u003eYear=%{x}\\u003cbr\\u003eRating=%{y}\\u003cextra\\u003e\\u003c\\u002fextra\\u003e\",\"legendgroup\":\"Thriller\",\"line\":{\"color\":\"#FECB52\",\"dash\":\"solid\"},\"marker\":{\"symbol\":\"circle\"},\"mode\":\"lines\",\"name\":\"Thriller\",\"orientation\":\"v\",\"showlegend\":true,\"x\":[1952,1954,1957,1958,1959,1960,1962,1964,1965,1966,1967,1968,1969,1970,1971,1972,1973,1974,1975,1976,1977,1978,1979,1980,1981,1982,1983,1984,1985,1986,1987,1988,1989,1990,1991,1992,1993,1994,1995,1996,1997,1998,1999,2000,2001,2002,2003,2004,2005,2006,2007,2008,2009,2010,2011,2012,2013,2014,2015,2016,2017,2018,2019,2020,2021],\"xaxis\":\"x\",\"y\":[7.2,6.6,6.8,6.233333333333333,6.7,6.4,6.949999999999999,6.566666666666666,6.825,6.0,6.733333333333333,6.725,6.5,6.675,6.466666666666666,6.5,6.155555555555555,6.6,6.1125,6.35,5.733333333333333,6.8,6.433333333333334,6.1125,6.366666666666666,5.900000000000001,4.5,5.75,6.1499999999999995,6.655555555555555,5.6000000000000005,5.35,6.0,5.55,5.644444444444444,5.885714285714286,5.022222222222222,5.91,5.76,4.59,4.95,4.6,5.6000000000000005,5.357142857142857,5.9,5.14,4.91875,4.973684210526316,4.6230769230769235,5.183333333333334,4.3,5.608333333333333,6.0249999999999995,5.23125,5.715,5.052380952380952,5.4,5.446428571428571,5.794444444444444,6.1625,6.0,5.515625,5.697058823529411,5.444,5.3545454545454545],\"yaxis\":\"y\",\"type\":\"scatter\"}],                        {\"template\":{\"data\":{\"histogram2dcontour\":[{\"type\":\"histogram2dcontour\",\"colorbar\":{\"outlinewidth\":0,\"ticks\":\"\"},\"colorscale\":[[0.0,\"#0d0887\"],[0.1111111111111111,\"#46039f\"],[0.2222222222222222,\"#7201a8\"],[0.3333333333333333,\"#9c179e\"],[0.4444444444444444,\"#bd3786\"],[0.5555555555555556,\"#d8576b\"],[0.6666666666666666,\"#ed7953\"],[0.7777777777777778,\"#fb9f3a\"],[0.8888888888888888,\"#fdca26\"],[1.0,\"#f0f921\"]]}],\"choropleth\":[{\"type\":\"choropleth\",\"colorbar\":{\"outlinewidth\":0,\"ticks\":\"\"}}],\"histogram2d\":[{\"type\":\"histogram2d\",\"colorbar\":{\"outlinewidth\":0,\"ticks\":\"\"},\"colorscale\":[[0.0,\"#0d0887\"],[0.1111111111111111,\"#46039f\"],[0.2222222222222222,\"#7201a8\"],[0.3333333333333333,\"#9c179e\"],[0.4444444444444444,\"#bd3786\"],[0.5555555555555556,\"#d8576b\"],[0.6666666666666666,\"#ed7953\"],[0.7777777777777778,\"#fb9f3a\"],[0.8888888888888888,\"#fdca26\"],[1.0,\"#f0f921\"]]}],\"heatmap\":[{\"type\":\"heatmap\",\"colorbar\":{\"outlinewidth\":0,\"ticks\":\"\"},\"colorscale\":[[0.0,\"#0d0887\"],[0.1111111111111111,\"#46039f\"],[0.2222222222222222,\"#7201a8\"],[0.3333333333333333,\"#9c179e\"],[0.4444444444444444,\"#bd3786\"],[0.5555555555555556,\"#d8576b\"],[0.6666666666666666,\"#ed7953\"],[0.7777777777777778,\"#fb9f3a\"],[0.8888888888888888,\"#fdca26\"],[1.0,\"#f0f921\"]]}],\"heatmapgl\":[{\"type\":\"heatmapgl\",\"colorbar\":{\"outlinewidth\":0,\"ticks\":\"\"},\"colorscale\":[[0.0,\"#0d0887\"],[0.1111111111111111,\"#46039f\"],[0.2222222222222222,\"#7201a8\"],[0.3333333333333333,\"#9c179e\"],[0.4444444444444444,\"#bd3786\"],[0.5555555555555556,\"#d8576b\"],[0.6666666666666666,\"#ed7953\"],[0.7777777777777778,\"#fb9f3a\"],[0.8888888888888888,\"#fdca26\"],[1.0,\"#f0f921\"]]}],\"contourcarpet\":[{\"type\":\"contourcarpet\",\"colorbar\":{\"outlinewidth\":0,\"ticks\":\"\"}}],\"contour\":[{\"type\":\"contour\",\"colorbar\":{\"outlinewidth\":0,\"ticks\":\"\"},\"colorscale\":[[0.0,\"#0d0887\"],[0.1111111111111111,\"#46039f\"],[0.2222222222222222,\"#7201a8\"],[0.3333333333333333,\"#9c179e\"],[0.4444444444444444,\"#bd3786\"],[0.5555555555555556,\"#d8576b\"],[0.6666666666666666,\"#ed7953\"],[0.7777777777777778,\"#fb9f3a\"],[0.8888888888888888,\"#fdca26\"],[1.0,\"#f0f921\"]]}],\"surface\":[{\"type\":\"surface\",\"colorbar\":{\"outlinewidth\":0,\"ticks\":\"\"},\"colorscale\":[[0.0,\"#0d0887\"],[0.1111111111111111,\"#46039f\"],[0.2222222222222222,\"#7201a8\"],[0.3333333333333333,\"#9c179e\"],[0.4444444444444444,\"#bd3786\"],[0.5555555555555556,\"#d8576b\"],[0.6666666666666666,\"#ed7953\"],[0.7777777777777778,\"#fb9f3a\"],[0.8888888888888888,\"#fdca26\"],[1.0,\"#f0f921\"]]}],\"mesh3d\":[{\"type\":\"mesh3d\",\"colorbar\":{\"outlinewidth\":0,\"ticks\":\"\"}}],\"scatter\":[{\"fillpattern\":{\"fillmode\":\"overlay\",\"size\":10,\"solidity\":0.2},\"type\":\"scatter\"}],\"parcoords\":[{\"type\":\"parcoords\",\"line\":{\"colorbar\":{\"outlinewidth\":0,\"ticks\":\"\"}}}],\"scatterpolargl\":[{\"type\":\"scatterpolargl\",\"marker\":{\"colorbar\":{\"outlinewidth\":0,\"ticks\":\"\"}}}],\"bar\":[{\"error_x\":{\"color\":\"#2a3f5f\"},\"error_y\":{\"color\":\"#2a3f5f\"},\"marker\":{\"line\":{\"color\":\"#E5ECF6\",\"width\":0.5},\"pattern\":{\"fillmode\":\"overlay\",\"size\":10,\"solidity\":0.2}},\"type\":\"bar\"}],\"scattergeo\":[{\"type\":\"scattergeo\",\"marker\":{\"colorbar\":{\"outlinewidth\":0,\"ticks\":\"\"}}}],\"scatterpolar\":[{\"type\":\"scatterpolar\",\"marker\":{\"colorbar\":{\"outlinewidth\":0,\"ticks\":\"\"}}}],\"histogram\":[{\"marker\":{\"pattern\":{\"fillmode\":\"overlay\",\"size\":10,\"solidity\":0.2}},\"type\":\"histogram\"}],\"scattergl\":[{\"type\":\"scattergl\",\"marker\":{\"colorbar\":{\"outlinewidth\":0,\"ticks\":\"\"}}}],\"scatter3d\":[{\"type\":\"scatter3d\",\"line\":{\"colorbar\":{\"outlinewidth\":0,\"ticks\":\"\"}},\"marker\":{\"colorbar\":{\"outlinewidth\":0,\"ticks\":\"\"}}}],\"scattermapbox\":[{\"type\":\"scattermapbox\",\"marker\":{\"colorbar\":{\"outlinewidth\":0,\"ticks\":\"\"}}}],\"scatterternary\":[{\"type\":\"scatterternary\",\"marker\":{\"colorbar\":{\"outlinewidth\":0,\"ticks\":\"\"}}}],\"scattercarpet\":[{\"type\":\"scattercarpet\",\"marker\":{\"colorbar\":{\"outlinewidth\":0,\"ticks\":\"\"}}}],\"carpet\":[{\"aaxis\":{\"endlinecolor\":\"#2a3f5f\",\"gridcolor\":\"white\",\"linecolor\":\"white\",\"minorgridcolor\":\"white\",\"startlinecolor\":\"#2a3f5f\"},\"baxis\":{\"endlinecolor\":\"#2a3f5f\",\"gridcolor\":\"white\",\"linecolor\":\"white\",\"minorgridcolor\":\"white\",\"startlinecolor\":\"#2a3f5f\"},\"type\":\"carpet\"}],\"table\":[{\"cells\":{\"fill\":{\"color\":\"#EBF0F8\"},\"line\":{\"color\":\"white\"}},\"header\":{\"fill\":{\"color\":\"#C8D4E3\"},\"line\":{\"color\":\"white\"}},\"type\":\"table\"}],\"barpolar\":[{\"marker\":{\"line\":{\"color\":\"#E5ECF6\",\"width\":0.5},\"pattern\":{\"fillmode\":\"overlay\",\"size\":10,\"solidity\":0.2}},\"type\":\"barpolar\"}],\"pie\":[{\"automargin\":true,\"type\":\"pie\"}]},\"layout\":{\"autotypenumbers\":\"strict\",\"colorway\":[\"#636efa\",\"#EF553B\",\"#00cc96\",\"#ab63fa\",\"#FFA15A\",\"#19d3f3\",\"#FF6692\",\"#B6E880\",\"#FF97FF\",\"#FECB52\"],\"font\":{\"color\":\"#2a3f5f\"},\"hovermode\":\"closest\",\"hoverlabel\":{\"align\":\"left\"},\"paper_bgcolor\":\"white\",\"plot_bgcolor\":\"#E5ECF6\",\"polar\":{\"bgcolor\":\"#E5ECF6\",\"angularaxis\":{\"gridcolor\":\"white\",\"linecolor\":\"white\",\"ticks\":\"\"},\"radialaxis\":{\"gridcolor\":\"white\",\"linecolor\":\"white\",\"ticks\":\"\"}},\"ternary\":{\"bgcolor\":\"#E5ECF6\",\"aaxis\":{\"gridcolor\":\"white\",\"linecolor\":\"white\",\"ticks\":\"\"},\"baxis\":{\"gridcolor\":\"white\",\"linecolor\":\"white\",\"ticks\":\"\"},\"caxis\":{\"gridcolor\":\"white\",\"linecolor\":\"white\",\"ticks\":\"\"}},\"coloraxis\":{\"colorbar\":{\"outlinewidth\":0,\"ticks\":\"\"}},\"colorscale\":{\"sequential\":[[0.0,\"#0d0887\"],[0.1111111111111111,\"#46039f\"],[0.2222222222222222,\"#7201a8\"],[0.3333333333333333,\"#9c179e\"],[0.4444444444444444,\"#bd3786\"],[0.5555555555555556,\"#d8576b\"],[0.6666666666666666,\"#ed7953\"],[0.7777777777777778,\"#fb9f3a\"],[0.8888888888888888,\"#fdca26\"],[1.0,\"#f0f921\"]],\"sequentialminus\":[[0.0,\"#0d0887\"],[0.1111111111111111,\"#46039f\"],[0.2222222222222222,\"#7201a8\"],[0.3333333333333333,\"#9c179e\"],[0.4444444444444444,\"#bd3786\"],[0.5555555555555556,\"#d8576b\"],[0.6666666666666666,\"#ed7953\"],[0.7777777777777778,\"#fb9f3a\"],[0.8888888888888888,\"#fdca26\"],[1.0,\"#f0f921\"]],\"diverging\":[[0,\"#8e0152\"],[0.1,\"#c51b7d\"],[0.2,\"#de77ae\"],[0.3,\"#f1b6da\"],[0.4,\"#fde0ef\"],[0.5,\"#f7f7f7\"],[0.6,\"#e6f5d0\"],[0.7,\"#b8e186\"],[0.8,\"#7fbc41\"],[0.9,\"#4d9221\"],[1,\"#276419\"]]},\"xaxis\":{\"gridcolor\":\"white\",\"linecolor\":\"white\",\"ticks\":\"\",\"title\":{\"standoff\":15},\"zerolinecolor\":\"white\",\"automargin\":true,\"zerolinewidth\":2},\"yaxis\":{\"gridcolor\":\"white\",\"linecolor\":\"white\",\"ticks\":\"\",\"title\":{\"standoff\":15},\"zerolinecolor\":\"white\",\"automargin\":true,\"zerolinewidth\":2},\"scene\":{\"xaxis\":{\"backgroundcolor\":\"#E5ECF6\",\"gridcolor\":\"white\",\"linecolor\":\"white\",\"showbackground\":true,\"ticks\":\"\",\"zerolinecolor\":\"white\",\"gridwidth\":2},\"yaxis\":{\"backgroundcolor\":\"#E5ECF6\",\"gridcolor\":\"white\",\"linecolor\":\"white\",\"showbackground\":true,\"ticks\":\"\",\"zerolinecolor\":\"white\",\"gridwidth\":2},\"zaxis\":{\"backgroundcolor\":\"#E5ECF6\",\"gridcolor\":\"white\",\"linecolor\":\"white\",\"showbackground\":true,\"ticks\":\"\",\"zerolinecolor\":\"white\",\"gridwidth\":2}},\"shapedefaults\":{\"line\":{\"color\":\"#2a3f5f\"}},\"annotationdefaults\":{\"arrowcolor\":\"#2a3f5f\",\"arrowhead\":0,\"arrowwidth\":1},\"geo\":{\"bgcolor\":\"white\",\"landcolor\":\"#E5ECF6\",\"subunitcolor\":\"white\",\"showland\":true,\"showlakes\":true,\"lakecolor\":\"white\"},\"title\":{\"x\":0.05},\"mapbox\":{\"style\":\"light\"}}},\"xaxis\":{\"anchor\":\"y\",\"domain\":[0.0,1.0],\"title\":{\"text\":\"Year\"}},\"yaxis\":{\"anchor\":\"x\",\"domain\":[0.0,1.0],\"title\":{\"text\":\"Average Rating\"}},\"legend\":{\"title\":{\"text\":\"Genre\"},\"tracegroupgap\":0},\"margin\":{\"t\":60},\"title\":{\"text\":\"Average Rating by year for Top Genres\"}},                        {\"responsive\": true}                    ).then(function(){\n",
       "                            \n",
       "var gd = document.getElementById('a7ba266c-38af-45f3-8783-4c48c998db72');\n",
       "var x = new MutationObserver(function (mutations, observer) {{\n",
       "        var display = window.getComputedStyle(gd).display;\n",
       "        if (!display || display === 'none') {{\n",
       "            console.log([gd, 'removed!']);\n",
       "            Plotly.purge(gd);\n",
       "            observer.disconnect();\n",
       "        }}\n",
       "}});\n",
       "\n",
       "// Listen for the removal of the full notebook cells\n",
       "var notebookContainer = gd.closest('#notebook-container');\n",
       "if (notebookContainer) {{\n",
       "    x.observe(notebookContainer, {childList: true});\n",
       "}}\n",
       "\n",
       "// Listen for the clearing of the current output cell\n",
       "var outputEl = gd.closest('.output');\n",
       "if (outputEl) {{\n",
       "    x.observe(outputEl, {childList: true});\n",
       "}}\n",
       "\n",
       "                        })                };                });            </script>        </div>"
      ]
     },
     "metadata": {},
     "output_type": "display_data"
    }
   ],
   "source": [
    "fig.update_layout(title='Average Rating by year for Top Genres', xaxis_title='Year', yaxis_title='Average Rating')\n",
    "fig.show()"
   ]
  },
  {
   "cell_type": "code",
   "execution_count": 185,
   "id": "5fb19af7-696d-4dce-bbda-0ba514697239",
   "metadata": {},
   "outputs": [
    {
     "data": {
      "image/png": "[encoded data removed]",
      "text/plain": [
       "<Figure size 640x480 with 1 Axes>"
      ]
     },
     "metadata": {},
     "output_type": "display_data"
    }
   ],
   "source": [
    "year = sns.histplot(data=movie_data, x='Rating', stat='probability', bins=40)\n",
    "plt.xlabel('Rating')\n",
    "plt.ylabel('Probability')\n",
    "plt.title('Distribution by Rating')\n",
    "plt.show()\n",
    "plt.show()"
   ]
  },
  {
   "cell_type": "code",
   "execution_count": 186,
   "id": "09c69c51-f7f3-477d-aed7-a9e6946acdb9",
   "metadata": {},
   "outputs": [],
   "source": [
    "#importing libraries for mode building\n",
    "from sklearn.model_selection import train_test_split,cross_val_score\n",
    "from sklearn.linear_model import LinearRegression\n",
    "from sklearn.metrics import accuracy_score, mean_absolute_error, mean_squared_error, r2_score"
   ]
  },
  {
   "cell_type": "code",
   "execution_count": 187,
   "id": "b422fe46-58e7-4ce3-a6cf-f0b4d2e38498",
   "metadata": {},
   "outputs": [],
   "source": [
    "movie_data.drop('Name', axis=1, inplace= True)"
   ]
  },
  {
   "cell_type": "code",
   "execution_count": 191,
   "id": "9fcb83d4-32e1-4dae-a608-385bac6ad4f9",
   "metadata": {},
   "outputs": [],
   "source": [
    "#Grouping the columns with their average rating and then creating a new feature\n",
    "\n",
    "genre_mean_rating= movie_data.groupby('Genre')['Rating'].transform('mean')\n",
    "movie_data['Genre_mean_rating']= genre_mean_rating\n",
    "\n",
    "director_mean_rating= movie_data.groupby('Director')['Rating'].transform('mean')\n",
    "movie_data['Director_encoded']= director_mean_rating\n",
    "\n",
    "actor1_mean_rating= movie_data.groupby('Actor 1')['Rating'].transform('mean')\n",
    "movie_data['Actor1_encoded']=actor1_mean_rating\n",
    "\n",
    "actor2_mean_rating= movie_data.groupby('Actor 2')['Rating'].transform('mean')\n",
    "movie_data['Actor2_encoded']=actor2_mean_rating\n",
    "\n",
    "actor3_mean_rating= movie_data.groupby('Actor 3')['Rating'].transform('mean')\n",
    "movie_data['Actor3_encoded']=actor3_mean_rating"
   ]
  },
  {
   "cell_type": "code",
   "execution_count": 192,
   "id": "2182f258-cce5-44bf-b925-5aa488269a57",
   "metadata": {},
   "outputs": [],
   "source": [
    "# keeping the predictor and target variable\n",
    "\n",
    "X= movie_data[['Year', 'Votes', 'Duration', \"Genre_mean_rating\", 'Director_encoded', \"Actor1_encoded\", \"Actor2_encoded\", \"Actor3_encoded\"]]\n",
    "y= movie_data['Rating']"
   ]
  },
  {
   "cell_type": "code",
   "execution_count": 213,
   "id": "8fa5c9fa-153f-41cb-8b26-8fc5d02fe117",
   "metadata": {},
   "outputs": [],
   "source": [
    "#Splitting the dataset into training and testing parts\n",
    "X_train, X_test, y_train, y_test = train_test_split(X,y,test_size=0.2,random_state=42)"
   ]
  },
  {
   "cell_type": "code",
   "execution_count": 215,
   "id": "ebab8337-398e-4f9f-bba6-890673022320",
   "metadata": {},
   "outputs": [
    {
     "data": {
      "text/html": [
       "<div>\n",
       "<style scoped>\n",
       "    .dataframe tbody tr th:only-of-type {\n",
       "        vertical-align: middle;\n",
       "    }\n",
       "\n",
       "    .dataframe tbody tr th {\n",
       "        vertical-align: top;\n",
       "    }\n",
       "\n",
       "    .dataframe thead th {\n",
       "        text-align: right;\n",
       "    }\n",
       "</style>\n",
       "<table border=\"1\" class=\"dataframe\">\n",
       "  <thead>\n",
       "    <tr style=\"text-align: right;\">\n",
       "      <th></th>\n",
       "      <th>Year</th>\n",
       "      <th>Votes</th>\n",
       "      <th>Duration</th>\n",
       "      <th>Genre_mean_rating</th>\n",
       "      <th>Director_encoded</th>\n",
       "      <th>Actor1_encoded</th>\n",
       "      <th>Actor2_encoded</th>\n",
       "      <th>Actor3_encoded</th>\n",
       "    </tr>\n",
       "  </thead>\n",
       "  <tbody>\n",
       "    <tr>\n",
       "      <th>4713</th>\n",
       "      <td>2021</td>\n",
       "      <td>26</td>\n",
       "      <td>84</td>\n",
       "      <td>6.056744</td>\n",
       "      <td>6.800000</td>\n",
       "      <td>6.800000</td>\n",
       "      <td>6.800000</td>\n",
       "      <td>6.800000</td>\n",
       "    </tr>\n",
       "    <tr>\n",
       "      <th>12223</th>\n",
       "      <td>2002</td>\n",
       "      <td>18</td>\n",
       "      <td>150</td>\n",
       "      <td>5.520463</td>\n",
       "      <td>6.700000</td>\n",
       "      <td>6.700000</td>\n",
       "      <td>6.700000</td>\n",
       "      <td>6.700000</td>\n",
       "    </tr>\n",
       "    <tr>\n",
       "      <th>302</th>\n",
       "      <td>1984</td>\n",
       "      <td>65</td>\n",
       "      <td>157</td>\n",
       "      <td>5.520463</td>\n",
       "      <td>5.579167</td>\n",
       "      <td>6.575281</td>\n",
       "      <td>6.417544</td>\n",
       "      <td>6.784615</td>\n",
       "    </tr>\n",
       "    <tr>\n",
       "      <th>4208</th>\n",
       "      <td>1949</td>\n",
       "      <td>31</td>\n",
       "      <td>133</td>\n",
       "      <td>6.246845</td>\n",
       "      <td>6.654545</td>\n",
       "      <td>6.500000</td>\n",
       "      <td>6.500000</td>\n",
       "      <td>7.220000</td>\n",
       "    </tr>\n",
       "    <tr>\n",
       "      <th>6915</th>\n",
       "      <td>1990</td>\n",
       "      <td>129</td>\n",
       "      <td>103</td>\n",
       "      <td>5.820114</td>\n",
       "      <td>5.774713</td>\n",
       "      <td>5.730769</td>\n",
       "      <td>5.688462</td>\n",
       "      <td>5.387500</td>\n",
       "    </tr>\n",
       "    <tr>\n",
       "      <th>...</th>\n",
       "      <td>...</td>\n",
       "      <td>...</td>\n",
       "      <td>...</td>\n",
       "      <td>...</td>\n",
       "      <td>...</td>\n",
       "      <td>...</td>\n",
       "      <td>...</td>\n",
       "      <td>...</td>\n",
       "    </tr>\n",
       "    <tr>\n",
       "      <th>15490</th>\n",
       "      <td>1998</td>\n",
       "      <td>268</td>\n",
       "      <td>157</td>\n",
       "      <td>5.630044</td>\n",
       "      <td>4.394737</td>\n",
       "      <td>5.025547</td>\n",
       "      <td>4.964000</td>\n",
       "      <td>5.727273</td>\n",
       "    </tr>\n",
       "    <tr>\n",
       "      <th>6469</th>\n",
       "      <td>1990</td>\n",
       "      <td>19</td>\n",
       "      <td>90</td>\n",
       "      <td>6.056744</td>\n",
       "      <td>5.708333</td>\n",
       "      <td>6.575281</td>\n",
       "      <td>5.600000</td>\n",
       "      <td>6.142308</td>\n",
       "    </tr>\n",
       "    <tr>\n",
       "      <th>6770</th>\n",
       "      <td>1992</td>\n",
       "      <td>22147</td>\n",
       "      <td>174</td>\n",
       "      <td>5.811087</td>\n",
       "      <td>7.270000</td>\n",
       "      <td>6.867778</td>\n",
       "      <td>5.042105</td>\n",
       "      <td>6.358824</td>\n",
       "    </tr>\n",
       "    <tr>\n",
       "      <th>979</th>\n",
       "      <td>1973</td>\n",
       "      <td>278</td>\n",
       "      <td>125</td>\n",
       "      <td>6.246845</td>\n",
       "      <td>6.547059</td>\n",
       "      <td>6.635088</td>\n",
       "      <td>7.082857</td>\n",
       "      <td>6.323077</td>\n",
       "    </tr>\n",
       "    <tr>\n",
       "      <th>9219</th>\n",
       "      <td>2012</td>\n",
       "      <td>191</td>\n",
       "      <td>180</td>\n",
       "      <td>5.751042</td>\n",
       "      <td>3.350000</td>\n",
       "      <td>4.634286</td>\n",
       "      <td>4.578571</td>\n",
       "      <td>5.812500</td>\n",
       "    </tr>\n",
       "  </tbody>\n",
       "</table>\n",
       "<p>9583 rows × 8 columns</p>\n",
       "</div>"
      ],
      "text/plain": [
       "       Year  Votes  Duration  Genre_mean_rating  Director_encoded  \\\n",
       "4713   2021     26        84           6.056744          6.800000   \n",
       "12223  2002     18       150           5.520463          6.700000   \n",
       "302    1984     65       157           5.520463          5.579167   \n",
       "4208   1949     31       133           6.246845          6.654545   \n",
       "6915   1990    129       103           5.820114          5.774713   \n",
       "...     ...    ...       ...                ...               ...   \n",
       "15490  1998    268       157           5.630044          4.394737   \n",
       "6469   1990     19        90           6.056744          5.708333   \n",
       "6770   1992  22147       174           5.811087          7.270000   \n",
       "979    1973    278       125           6.246845          6.547059   \n",
       "9219   2012    191       180           5.751042          3.350000   \n",
       "\n",
       "       Actor1_encoded  Actor2_encoded  Actor3_encoded  \n",
       "4713         6.800000        6.800000        6.800000  \n",
       "12223        6.700000        6.700000        6.700000  \n",
       "302          6.575281        6.417544        6.784615  \n",
       "4208         6.500000        6.500000        7.220000  \n",
       "6915         5.730769        5.688462        5.387500  \n",
       "...               ...             ...             ...  \n",
       "15490        5.025547        4.964000        5.727273  \n",
       "6469         6.575281        5.600000        6.142308  \n",
       "6770         6.867778        5.042105        6.358824  \n",
       "979          6.635088        7.082857        6.323077  \n",
       "9219         4.634286        4.578571        5.812500  \n",
       "\n",
       "[9583 rows x 8 columns]"
      ]
     },
     "execution_count": 215,
     "metadata": {},
     "output_type": "execute_result"
    }
   ],
   "source": [
    "X_train"
   ]
  },
  {
   "cell_type": "code",
   "execution_count": 217,
   "id": "46d37559-875c-49f8-b0b4-f69c7713159c",
   "metadata": {},
   "outputs": [
    {
     "data": {
      "text/plain": [
       "4713     6.8\n",
       "12223    6.7\n",
       "302      5.8\n",
       "4208     6.5\n",
       "6915     5.6\n",
       "        ... \n",
       "15490    4.3\n",
       "6469     5.3\n",
       "6770     8.2\n",
       "979      7.1\n",
       "9219     3.5\n",
       "Name: Rating, Length: 9583, dtype: float64"
      ]
     },
     "execution_count": 217,
     "metadata": {},
     "output_type": "execute_result"
    }
   ],
   "source": [
    "y_train"
   ]
  },
  {
   "cell_type": "code",
   "execution_count": null,
   "id": "019f5737-ee76-46ed-8ddb-af082e8d2d0d",
   "metadata": {},
   "outputs": [],
   "source": []
  },
  {
   "cell_type": "markdown",
   "id": "408e6865-b335-4963-b8e0-35f16e4711af",
   "metadata": {},
   "source": [
    "## Model Building "
   ]
  },
  {
   "cell_type": "code",
   "execution_count": 198,
   "id": "99c8da2e-026a-4630-bf1e-eea16865bf4c",
   "metadata": {},
   "outputs": [],
   "source": [
    "# Building machine learning model and training them\n",
    "Model= LinearRegression()\n",
    "Model.fit(X_train,y_train)\n",
    "Model_pred=Model.predict(X_test)"
   ]
  },
  {
   "cell_type": "code",
   "execution_count": 200,
   "id": "22720054-4591-4c04-9c65-5293a084aed3",
   "metadata": {},
   "outputs": [
    {
     "name": "stdout",
     "output_type": "stream",
     "text": [
      "The performance evaluation of logistic regression is below:  \n",
      "\n",
      "Mean squared error:  0.4465441653985704\n",
      "Mean absolute error:  0.49219025407656397\n",
      "R2 score:  0.7641133663863862\n"
     ]
    }
   ],
   "source": [
    "# Evaluting the performance of model with evalution metrics\n",
    "print('The performance evaluation of logistic regression is below: ', '\\n')\n",
    "print('Mean squared error: ', mean_squared_error(y_test, Model_pred))\n",
    "print('Mean absolute error: ', mean_absolute_error(y_test, Model_pred))\n",
    "print('R2 score: ', r2_score(y_test, Model_pred))"
   ]
  },
  {
   "cell_type": "markdown",
   "id": "0eb604f6-16f9-4445-8265-89bd0f651bc8",
   "metadata": {},
   "source": [
    "## Model Testing"
   ]
  },
  {
   "cell_type": "code",
   "execution_count": 203,
   "id": "371cb108-2607-4dc1-a118-e8985251dbc1",
   "metadata": {},
   "outputs": [
    {
     "data": {
      "text/html": [
       "<div>\n",
       "<style scoped>\n",
       "    .dataframe tbody tr th:only-of-type {\n",
       "        vertical-align: middle;\n",
       "    }\n",
       "\n",
       "    .dataframe tbody tr th {\n",
       "        vertical-align: top;\n",
       "    }\n",
       "\n",
       "    .dataframe thead th {\n",
       "        text-align: right;\n",
       "    }\n",
       "</style>\n",
       "<table border=\"1\" class=\"dataframe\">\n",
       "  <thead>\n",
       "    <tr style=\"text-align: right;\">\n",
       "      <th></th>\n",
       "      <th>Year</th>\n",
       "      <th>Votes</th>\n",
       "      <th>Duration</th>\n",
       "      <th>Genre_mean_rating</th>\n",
       "      <th>Director_encoded</th>\n",
       "      <th>Actor1_encoded</th>\n",
       "      <th>Actor2_encoded</th>\n",
       "      <th>Actor3_encoded</th>\n",
       "    </tr>\n",
       "  </thead>\n",
       "  <tbody>\n",
       "    <tr>\n",
       "      <th>1</th>\n",
       "      <td>2019</td>\n",
       "      <td>8</td>\n",
       "      <td>109</td>\n",
       "      <td>6.056744</td>\n",
       "      <td>7.000000</td>\n",
       "      <td>6.850000</td>\n",
       "      <td>7.00</td>\n",
       "      <td>7.00</td>\n",
       "    </tr>\n",
       "    <tr>\n",
       "      <th>3</th>\n",
       "      <td>2019</td>\n",
       "      <td>35</td>\n",
       "      <td>110</td>\n",
       "      <td>5.751042</td>\n",
       "      <td>4.400000</td>\n",
       "      <td>5.250000</td>\n",
       "      <td>4.40</td>\n",
       "      <td>4.46</td>\n",
       "    </tr>\n",
       "    <tr>\n",
       "      <th>3</th>\n",
       "      <td>2019</td>\n",
       "      <td>35</td>\n",
       "      <td>110</td>\n",
       "      <td>5.811087</td>\n",
       "      <td>4.400000</td>\n",
       "      <td>5.250000</td>\n",
       "      <td>4.40</td>\n",
       "      <td>4.46</td>\n",
       "    </tr>\n",
       "    <tr>\n",
       "      <th>5</th>\n",
       "      <td>1997</td>\n",
       "      <td>827</td>\n",
       "      <td>147</td>\n",
       "      <td>5.751042</td>\n",
       "      <td>5.335135</td>\n",
       "      <td>4.793617</td>\n",
       "      <td>5.73</td>\n",
       "      <td>5.93</td>\n",
       "    </tr>\n",
       "    <tr>\n",
       "      <th>5</th>\n",
       "      <td>1997</td>\n",
       "      <td>827</td>\n",
       "      <td>147</td>\n",
       "      <td>6.056744</td>\n",
       "      <td>5.335135</td>\n",
       "      <td>4.793617</td>\n",
       "      <td>5.73</td>\n",
       "      <td>5.93</td>\n",
       "    </tr>\n",
       "  </tbody>\n",
       "</table>\n",
       "</div>"
      ],
      "text/plain": [
       "   Year  Votes  Duration  Genre_mean_rating  Director_encoded  Actor1_encoded  \\\n",
       "1  2019      8       109           6.056744          7.000000        6.850000   \n",
       "3  2019     35       110           5.751042          4.400000        5.250000   \n",
       "3  2019     35       110           5.811087          4.400000        5.250000   \n",
       "5  1997    827       147           5.751042          5.335135        4.793617   \n",
       "5  1997    827       147           6.056744          5.335135        4.793617   \n",
       "\n",
       "   Actor2_encoded  Actor3_encoded  \n",
       "1            7.00            7.00  \n",
       "3            4.40            4.46  \n",
       "3            4.40            4.46  \n",
       "5            5.73            5.93  \n",
       "5            5.73            5.93  "
      ]
     },
     "execution_count": 203,
     "metadata": {},
     "output_type": "execute_result"
    }
   ],
   "source": [
    "X.head(5)"
   ]
  },
  {
   "cell_type": "code",
   "execution_count": 205,
   "id": "00e9487a-71c1-4535-b5ac-64a5433ad0a6",
   "metadata": {},
   "outputs": [
    {
     "data": {
      "text/plain": [
       "1    7.0\n",
       "3    4.4\n",
       "3    4.4\n",
       "5    4.7\n",
       "5    4.7\n",
       "Name: Rating, dtype: float64"
      ]
     },
     "execution_count": 205,
     "metadata": {},
     "output_type": "execute_result"
    }
   ],
   "source": [
    "y.head(5)"
   ]
  },
  {
   "cell_type": "code",
   "execution_count": 219,
   "id": "5fd02d61-6192-456e-a074-5c28f316775c",
   "metadata": {},
   "outputs": [],
   "source": [
    "# For testng, We created a new dataframe with the values close to the any of our existing data to evaluate.\n",
    "\n",
    "data={'Year': [2019], 'Votes':[8], 'Duration': [109], 'Genre_mean_rating': [6.056744], 'Director_encoded': [7.000000], 'Actor1_encoded':[6.850000],'Actor2_encoded':[7.00], 'Actor3_encoded':[7.00]}\n",
    "trail= pd.DataFrame(data)"
   ]
  },
  {
   "cell_type": "code",
   "execution_count": 221,
   "id": "694f11d2-dd6d-481b-ad9f-f75356783caf",
   "metadata": {},
   "outputs": [
    {
     "name": "stdout",
     "output_type": "stream",
     "text": [
      "Predicted Rating:  7.238868271047665\n"
     ]
    }
   ],
   "source": [
    "rating_predicted =Model.predict(trail)\n",
    "\n",
    "print(\"Predicted Rating: \", rating_predicted[0])"
   ]
  }
 ],
 "metadata": {
  "kernelspec": {
   "display_name": "Python 3 (ipykernel)",
   "language": "python",
   "name": "python3"
  },
  "language_info": {
   "codemirror_mode": {
    "name": "ipython",
    "version": 3
   },
   "file_extension": ".py",
   "mimetype": "text/x-python",
   "name": "python",
   "nbconvert_exporter": "python",
   "pygments_lexer": "ipython3",
   "version": "3.12.4"
  }
 },
 "nbformat": 4,
 "nbformat_minor": 5
}
